{
  "nbformat": 4,
  "nbformat_minor": 0,
  "metadata": {
    "colab": {
      "name": "Sentimentsarcasm.ipynb",
      "provenance": [],
      "collapsed_sections": [],
      "toc_visible": true
    },
    "kernelspec": {
      "display_name": "Python 3",
      "name": "python3"
    },
    "language_info": {
      "name": "python"
    }
  },
  "cells": [
    {
      "cell_type": "markdown",
      "metadata": {
        "id": "39CsxMqYlkfD"
      },
      "source": [
        "# Dataset Download"
      ]
    },
    {
      "cell_type": "code",
      "metadata": {
        "id": "NlbIcdE8lieX"
      },
      "source": [
        "from google.colab import files"
      ],
      "execution_count": null,
      "outputs": []
    },
    {
      "cell_type": "code",
      "metadata": {
        "id": "8NOxvy7RKc-t"
      },
      "source": [
        "!pip install -q kaggle"
      ],
      "execution_count": null,
      "outputs": []
    },
    {
      "cell_type": "code",
      "metadata": {
        "colab": {
          "resources": {
            "http://localhost:8080/nbextensions/google.colab/files.js": {
              "data": "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",
              "ok": true,
              "headers": [
                [
                  "content-type",
                  "application/javascript"
                ]
              ],
              "status": 200,
              "status_text": ""
            }
          },
          "base_uri": "https://localhost:8080/",
          "height": 73
        },
        "id": "5vDG6i0ZK0u-",
        "outputId": "b2f795b7-478c-4ce0-b7f8-c3ddbff227ec"
      },
      "source": [
        "uploaded = files.upload()"
      ],
      "execution_count": null,
      "outputs": [
        {
          "output_type": "display_data",
          "data": {
            "text/html": [
              "\n",
              "     <input type=\"file\" id=\"files-119be7d5-3da4-4159-a5e1-262b8ac041d7\" name=\"files[]\" multiple disabled\n",
              "        style=\"border:none\" />\n",
              "     <output id=\"result-119be7d5-3da4-4159-a5e1-262b8ac041d7\">\n",
              "      Upload widget is only available when the cell has been executed in the\n",
              "      current browser session. Please rerun this cell to enable.\n",
              "      </output>\n",
              "      <script src=\"/nbextensions/google.colab/files.js\"></script> "
            ],
            "text/plain": [
              "<IPython.core.display.HTML object>"
            ]
          },
          "metadata": {}
        },
        {
          "output_type": "stream",
          "name": "stdout",
          "text": [
            "Saving kaggle.json to kaggle.json\n"
          ]
        }
      ]
    },
    {
      "cell_type": "code",
      "metadata": {
        "id": "Ru42J8qMKytr"
      },
      "source": [
        "! mkdir ~/.kaggle"
      ],
      "execution_count": null,
      "outputs": []
    },
    {
      "cell_type": "code",
      "metadata": {
        "id": "_FdxzrzRKyv6"
      },
      "source": [
        "! cp kaggle.json ~/.kaggle/"
      ],
      "execution_count": null,
      "outputs": []
    },
    {
      "cell_type": "code",
      "metadata": {
        "id": "jUiWvTAHKyyH"
      },
      "source": [
        "! chmod 600 ~/.kaggle/kaggle.json"
      ],
      "execution_count": null,
      "outputs": []
    },
    {
      "cell_type": "code",
      "metadata": {
        "colab": {
          "base_uri": "https://localhost:8080/"
        },
        "id": "zBvazEBhKy4X",
        "outputId": "400290b5-02a4-41de-eadc-e67a7f3cb376"
      },
      "source": [
        "!kaggle datasets download -d danofer/sarcasm"
      ],
      "execution_count": null,
      "outputs": [
        {
          "output_type": "stream",
          "name": "stdout",
          "text": [
            "Downloading sarcasm.zip to /content\n",
            " 94% 204M/216M [00:02<00:00, 123MB/s]\n",
            "100% 216M/216M [00:02<00:00, 90.7MB/s]\n"
          ]
        }
      ]
    },
    {
      "cell_type": "code",
      "metadata": {
        "colab": {
          "base_uri": "https://localhost:8080/"
        },
        "id": "Th71LKr3LcpJ",
        "outputId": "18de205d-0237-4d07-afa8-5f2a4826ef48"
      },
      "source": [
        "\n",
        "from google.colab import drive\n",
        "drive.mount('/content/drive')"
      ],
      "execution_count": null,
      "outputs": [
        {
          "output_type": "stream",
          "name": "stdout",
          "text": [
            "Mounted at /content/drive\n"
          ]
        }
      ]
    },
    {
      "cell_type": "code",
      "metadata": {
        "id": "reTc2so_Lczr"
      },
      "source": [
        "import pandas as pd\n",
        "from zipfile import ZipFile\n",
        "with ZipFile(\"sarcasm.zip\", 'r') as myzip:\n",
        "    myzip.extractall(\".\")"
      ],
      "execution_count": null,
      "outputs": []
    },
    {
      "cell_type": "code",
      "metadata": {
        "id": "W4EVQ30nz0eP"
      },
      "source": [
        "PATH_TO_TRAIN = '/content/train-balanced-sarcasm.csv'"
      ],
      "execution_count": null,
      "outputs": []
    },
    {
      "cell_type": "code",
      "metadata": {
        "id": "lUk0K81P1Hf8"
      },
      "source": [
        "import os\n",
        "import numpy as np\n",
        "import pandas as pd\n",
        "from sklearn.feature_extraction.text import TfidfVectorizer\n",
        "from sklearn.linear_model import LogisticRegressionCV\n",
        "from sklearn.pipeline import Pipeline\n",
        "from sklearn.model_selection import train_test_split\n",
        "from sklearn.metrics import accuracy_score, confusion_matrix\n",
        "import seaborn as sns\n",
        "from matplotlib import pyplot as plt"
      ],
      "execution_count": null,
      "outputs": []
    },
    {
      "cell_type": "code",
      "metadata": {
        "id": "W9mx8Mkk1HnQ"
      },
      "source": [
        "train_df = pd.read_csv(PATH_TO_TRAIN)"
      ],
      "execution_count": null,
      "outputs": []
    },
    {
      "cell_type": "markdown",
      "metadata": {
        "id": "d-OVvRd_lsdY"
      },
      "source": [
        "# Pre-Processing"
      ]
    },
    {
      "cell_type": "code",
      "metadata": {
        "colab": {
          "base_uri": "https://localhost:8080/",
          "height": 1000
        },
        "id": "CFFkCol51Hpb",
        "outputId": "6bd25b6f-0ea6-442d-d3f6-618fc37b6765"
      },
      "source": [
        "train_df.head(50)"
      ],
      "execution_count": null,
      "outputs": [
        {
          "data": {
            "text/html": [
              "<div>\n",
              "<style scoped>\n",
              "    .dataframe tbody tr th:only-of-type {\n",
              "        vertical-align: middle;\n",
              "    }\n",
              "\n",
              "    .dataframe tbody tr th {\n",
              "        vertical-align: top;\n",
              "    }\n",
              "\n",
              "    .dataframe thead th {\n",
              "        text-align: right;\n",
              "    }\n",
              "</style>\n",
              "<table border=\"1\" class=\"dataframe\">\n",
              "  <thead>\n",
              "    <tr style=\"text-align: right;\">\n",
              "      <th></th>\n",
              "      <th>label</th>\n",
              "      <th>comment</th>\n",
              "      <th>author</th>\n",
              "      <th>subreddit</th>\n",
              "      <th>score</th>\n",
              "      <th>ups</th>\n",
              "      <th>downs</th>\n",
              "      <th>date</th>\n",
              "      <th>created_utc</th>\n",
              "      <th>parent_comment</th>\n",
              "    </tr>\n",
              "  </thead>\n",
              "  <tbody>\n",
              "    <tr>\n",
              "      <th>0</th>\n",
              "      <td>0</td>\n",
              "      <td>NC and NH.</td>\n",
              "      <td>Trumpbart</td>\n",
              "      <td>politics</td>\n",
              "      <td>2</td>\n",
              "      <td>-1</td>\n",
              "      <td>-1</td>\n",
              "      <td>2016-10</td>\n",
              "      <td>2016-10-16 23:55:23</td>\n",
              "      <td>Yeah, I get that argument. At this point, I'd ...</td>\n",
              "    </tr>\n",
              "    <tr>\n",
              "      <th>1</th>\n",
              "      <td>0</td>\n",
              "      <td>You do know west teams play against west teams...</td>\n",
              "      <td>Shbshb906</td>\n",
              "      <td>nba</td>\n",
              "      <td>-4</td>\n",
              "      <td>-1</td>\n",
              "      <td>-1</td>\n",
              "      <td>2016-11</td>\n",
              "      <td>2016-11-01 00:24:10</td>\n",
              "      <td>The blazers and Mavericks (The wests 5 and 6 s...</td>\n",
              "    </tr>\n",
              "    <tr>\n",
              "      <th>2</th>\n",
              "      <td>0</td>\n",
              "      <td>They were underdogs earlier today, but since G...</td>\n",
              "      <td>Creepeth</td>\n",
              "      <td>nfl</td>\n",
              "      <td>3</td>\n",
              "      <td>3</td>\n",
              "      <td>0</td>\n",
              "      <td>2016-09</td>\n",
              "      <td>2016-09-22 21:45:37</td>\n",
              "      <td>They're favored to win.</td>\n",
              "    </tr>\n",
              "    <tr>\n",
              "      <th>3</th>\n",
              "      <td>0</td>\n",
              "      <td>This meme isn't funny none of the \"new york ni...</td>\n",
              "      <td>icebrotha</td>\n",
              "      <td>BlackPeopleTwitter</td>\n",
              "      <td>-8</td>\n",
              "      <td>-1</td>\n",
              "      <td>-1</td>\n",
              "      <td>2016-10</td>\n",
              "      <td>2016-10-18 21:03:47</td>\n",
              "      <td>deadass don't kill my buzz</td>\n",
              "    </tr>\n",
              "    <tr>\n",
              "      <th>4</th>\n",
              "      <td>0</td>\n",
              "      <td>I could use one of those tools.</td>\n",
              "      <td>cush2push</td>\n",
              "      <td>MaddenUltimateTeam</td>\n",
              "      <td>6</td>\n",
              "      <td>-1</td>\n",
              "      <td>-1</td>\n",
              "      <td>2016-12</td>\n",
              "      <td>2016-12-30 17:00:13</td>\n",
              "      <td>Yep can confirm I saw the tool they use for th...</td>\n",
              "    </tr>\n",
              "    <tr>\n",
              "      <th>5</th>\n",
              "      <td>0</td>\n",
              "      <td>I don't pay attention to her, but as long as s...</td>\n",
              "      <td>only7inches</td>\n",
              "      <td>AskReddit</td>\n",
              "      <td>0</td>\n",
              "      <td>0</td>\n",
              "      <td>0</td>\n",
              "      <td>2016-09</td>\n",
              "      <td>2016-09-02 10:35:08</td>\n",
              "      <td>do you find ariana grande sexy ?</td>\n",
              "    </tr>\n",
              "    <tr>\n",
              "      <th>6</th>\n",
              "      <td>0</td>\n",
              "      <td>Trick or treating in general is just weird...</td>\n",
              "      <td>only7inches</td>\n",
              "      <td>AskReddit</td>\n",
              "      <td>1</td>\n",
              "      <td>-1</td>\n",
              "      <td>-1</td>\n",
              "      <td>2016-10</td>\n",
              "      <td>2016-10-23 21:43:03</td>\n",
              "      <td>What's your weird or unsettling Trick or Treat...</td>\n",
              "    </tr>\n",
              "    <tr>\n",
              "      <th>7</th>\n",
              "      <td>0</td>\n",
              "      <td>Blade Mastery+Masamune or GTFO!</td>\n",
              "      <td>P0k3rm4s7</td>\n",
              "      <td>FFBraveExvius</td>\n",
              "      <td>2</td>\n",
              "      <td>-1</td>\n",
              "      <td>-1</td>\n",
              "      <td>2016-10</td>\n",
              "      <td>2016-10-13 21:13:55</td>\n",
              "      <td>Probably Sephiroth. I refuse to taint his grea...</td>\n",
              "    </tr>\n",
              "    <tr>\n",
              "      <th>8</th>\n",
              "      <td>0</td>\n",
              "      <td>You don't have to, you have a good build, buy ...</td>\n",
              "      <td>SoupToPots</td>\n",
              "      <td>pcmasterrace</td>\n",
              "      <td>1</td>\n",
              "      <td>-1</td>\n",
              "      <td>-1</td>\n",
              "      <td>2016-10</td>\n",
              "      <td>2016-10-27 19:11:06</td>\n",
              "      <td>What to upgrade? I have $500 to spend (mainly ...</td>\n",
              "    </tr>\n",
              "    <tr>\n",
              "      <th>9</th>\n",
              "      <td>0</td>\n",
              "      <td>I would love to see him at lolla.</td>\n",
              "      <td>chihawks</td>\n",
              "      <td>Lollapalooza</td>\n",
              "      <td>2</td>\n",
              "      <td>-1</td>\n",
              "      <td>-1</td>\n",
              "      <td>2016-11</td>\n",
              "      <td>2016-11-21 23:39:12</td>\n",
              "      <td>Probably count Kanye out Since the rest of his...</td>\n",
              "    </tr>\n",
              "    <tr>\n",
              "      <th>10</th>\n",
              "      <td>0</td>\n",
              "      <td>I think a significant amount would be against ...</td>\n",
              "      <td>ThisIsNotKimJongUn</td>\n",
              "      <td>politics</td>\n",
              "      <td>92</td>\n",
              "      <td>92</td>\n",
              "      <td>0</td>\n",
              "      <td>2016-09</td>\n",
              "      <td>2016-09-20 17:53:52</td>\n",
              "      <td>I bet if that money was poured into college de...</td>\n",
              "    </tr>\n",
              "    <tr>\n",
              "      <th>11</th>\n",
              "      <td>0</td>\n",
              "      <td>Damn I was hoping God was real</td>\n",
              "      <td>Kvetch__22</td>\n",
              "      <td>baseball</td>\n",
              "      <td>14</td>\n",
              "      <td>-1</td>\n",
              "      <td>-1</td>\n",
              "      <td>2016-10</td>\n",
              "      <td>2016-10-28 09:07:50</td>\n",
              "      <td>James Shields Will Not Exercise Opt-Out Clause</td>\n",
              "    </tr>\n",
              "    <tr>\n",
              "      <th>12</th>\n",
              "      <td>0</td>\n",
              "      <td>They have an agenda.</td>\n",
              "      <td>Readbooks6</td>\n",
              "      <td>exmormon</td>\n",
              "      <td>4</td>\n",
              "      <td>-1</td>\n",
              "      <td>-1</td>\n",
              "      <td>2016-10</td>\n",
              "      <td>2016-10-15 01:14:03</td>\n",
              "      <td>There's no time to worry about leaks when they...</td>\n",
              "    </tr>\n",
              "    <tr>\n",
              "      <th>13</th>\n",
              "      <td>0</td>\n",
              "      <td>Great idea!</td>\n",
              "      <td>pieman2005</td>\n",
              "      <td>fantasyfootball</td>\n",
              "      <td>1</td>\n",
              "      <td>-1</td>\n",
              "      <td>-1</td>\n",
              "      <td>2016-10</td>\n",
              "      <td>2016-10-06 23:27:53</td>\n",
              "      <td>Team Specific Threads No matter how many artic...</td>\n",
              "    </tr>\n",
              "    <tr>\n",
              "      <th>14</th>\n",
              "      <td>0</td>\n",
              "      <td>Ayy bb wassup, it makes a bit more sense in co...</td>\n",
              "      <td>Jakethejoker</td>\n",
              "      <td>NYGiants</td>\n",
              "      <td>29</td>\n",
              "      <td>29</td>\n",
              "      <td>0</td>\n",
              "      <td>2016-09</td>\n",
              "      <td>2016-09-19 18:46:58</td>\n",
              "      <td>Ill give you a hint. They commented in this th...</td>\n",
              "    </tr>\n",
              "    <tr>\n",
              "      <th>15</th>\n",
              "      <td>0</td>\n",
              "      <td>what the fuck</td>\n",
              "      <td>Pishwi</td>\n",
              "      <td>AskReddit</td>\n",
              "      <td>22</td>\n",
              "      <td>-1</td>\n",
              "      <td>-1</td>\n",
              "      <td>2016-11</td>\n",
              "      <td>2016-11-04 20:10:33</td>\n",
              "      <td>Star Wars, easy. I'm not that bothered about I...</td>\n",
              "    </tr>\n",
              "    <tr>\n",
              "      <th>16</th>\n",
              "      <td>0</td>\n",
              "      <td>noted.</td>\n",
              "      <td>kozmo1313</td>\n",
              "      <td>NewOrleans</td>\n",
              "      <td>2</td>\n",
              "      <td>-1</td>\n",
              "      <td>-1</td>\n",
              "      <td>2016-12</td>\n",
              "      <td>2016-12-20 21:59:45</td>\n",
              "      <td>You're adorable.</td>\n",
              "    </tr>\n",
              "    <tr>\n",
              "      <th>17</th>\n",
              "      <td>0</td>\n",
              "      <td>because it's what really bothers him... and it...</td>\n",
              "      <td>kozmo1313</td>\n",
              "      <td>politics</td>\n",
              "      <td>15</td>\n",
              "      <td>-1</td>\n",
              "      <td>-1</td>\n",
              "      <td>2016-12</td>\n",
              "      <td>2016-12-26 20:10:45</td>\n",
              "      <td>He actually acts like a moody emo girl on twit...</td>\n",
              "    </tr>\n",
              "    <tr>\n",
              "      <th>18</th>\n",
              "      <td>0</td>\n",
              "      <td>why you fail me, my precious?</td>\n",
              "      <td>kozmo1313</td>\n",
              "      <td>HillaryForPrison</td>\n",
              "      <td>1</td>\n",
              "      <td>1</td>\n",
              "      <td>0</td>\n",
              "      <td>2016-09</td>\n",
              "      <td>2016-09-18 13:02:45</td>\n",
              "      <td>Clinton struggles to gain traction in Florida,...</td>\n",
              "    </tr>\n",
              "    <tr>\n",
              "      <th>19</th>\n",
              "      <td>0</td>\n",
              "      <td>Pre-Flashpoint Clark and Lois.</td>\n",
              "      <td>BreakingGarrick</td>\n",
              "      <td>superman</td>\n",
              "      <td>2</td>\n",
              "      <td>2</td>\n",
              "      <td>0</td>\n",
              "      <td>2016-09</td>\n",
              "      <td>2016-09-16 02:34:04</td>\n",
              "      <td>Is that the Older Clark and Older Lois?</td>\n",
              "    </tr>\n",
              "    <tr>\n",
              "      <th>20</th>\n",
              "      <td>0</td>\n",
              "      <td>She hugs him back tightly, burying her head in...</td>\n",
              "      <td>EternalCanadian</td>\n",
              "      <td>WarHammer40kRP</td>\n",
              "      <td>1</td>\n",
              "      <td>-1</td>\n",
              "      <td>-1</td>\n",
              "      <td>2016-10</td>\n",
              "      <td>2016-10-28 15:48:21</td>\n",
              "      <td>*Guilt roles over Mel, and he hesitates for a ...</td>\n",
              "    </tr>\n",
              "    <tr>\n",
              "      <th>21</th>\n",
              "      <td>0</td>\n",
              "      <td>At this point they're so stable I could build ...</td>\n",
              "      <td>DumbNameIWillRegret</td>\n",
              "      <td>vitahacks</td>\n",
              "      <td>17</td>\n",
              "      <td>-1</td>\n",
              "      <td>-1</td>\n",
              "      <td>2016-11</td>\n",
              "      <td>2016-11-01 15:17:28</td>\n",
              "      <td>They will never get the stability of the 3DS.</td>\n",
              "    </tr>\n",
              "    <tr>\n",
              "      <th>22</th>\n",
              "      <td>0</td>\n",
              "      <td>Conservatism as an ideology is for sure a reac...</td>\n",
              "      <td>MayorMcCheese59</td>\n",
              "      <td>politics</td>\n",
              "      <td>1</td>\n",
              "      <td>-1</td>\n",
              "      <td>-1</td>\n",
              "      <td>2016-12</td>\n",
              "      <td>2016-12-24 00:04:06</td>\n",
              "      <td>I still doubt that \"all conservatives stand fo...</td>\n",
              "    </tr>\n",
              "    <tr>\n",
              "      <th>23</th>\n",
              "      <td>0</td>\n",
              "      <td>Maybe not control, but certainly that is evide...</td>\n",
              "      <td>SunTzu-</td>\n",
              "      <td>politics</td>\n",
              "      <td>1</td>\n",
              "      <td>-1</td>\n",
              "      <td>-1</td>\n",
              "      <td>2016-10</td>\n",
              "      <td>2016-10-13 20:48:14</td>\n",
              "      <td>Today Russian media tweeted out that Wikileaks...</td>\n",
              "    </tr>\n",
              "    <tr>\n",
              "      <th>24</th>\n",
              "      <td>0</td>\n",
              "      <td>Mine auto renewed without asking me the other ...</td>\n",
              "      <td>yeaweckin</td>\n",
              "      <td>2007scape</td>\n",
              "      <td>3</td>\n",
              "      <td>-1</td>\n",
              "      <td>-1</td>\n",
              "      <td>2016-11</td>\n",
              "      <td>2016-11-01 01:40:17</td>\n",
              "      <td>Thank you, Jagex, for being cool Jagex has alw...</td>\n",
              "    </tr>\n",
              "    <tr>\n",
              "      <th>25</th>\n",
              "      <td>0</td>\n",
              "      <td>466</td>\n",
              "      <td>Cogman117</td>\n",
              "      <td>Overwatch</td>\n",
              "      <td>5</td>\n",
              "      <td>-1</td>\n",
              "      <td>-1</td>\n",
              "      <td>2016-11</td>\n",
              "      <td>2016-11-03 00:20:04</td>\n",
              "      <td>467 A lovely way!</td>\n",
              "    </tr>\n",
              "    <tr>\n",
              "      <th>26</th>\n",
              "      <td>0</td>\n",
              "      <td>Jesus is a FNAF fan confirmed</td>\n",
              "      <td>SuperArthurBros</td>\n",
              "      <td>fivenightsatfreddys</td>\n",
              "      <td>2</td>\n",
              "      <td>-1</td>\n",
              "      <td>-1</td>\n",
              "      <td>2016-12</td>\n",
              "      <td>2016-12-25 14:40:14</td>\n",
              "      <td>Jesus got</td>\n",
              "    </tr>\n",
              "    <tr>\n",
              "      <th>27</th>\n",
              "      <td>0</td>\n",
              "      <td>This would make me cry.</td>\n",
              "      <td>neutralneutrals</td>\n",
              "      <td>AskReddit</td>\n",
              "      <td>1</td>\n",
              "      <td>-1</td>\n",
              "      <td>-1</td>\n",
              "      <td>2016-11</td>\n",
              "      <td>2016-11-07 12:03:16</td>\n",
              "      <td>\"You are like the end piece of bread in a loaf...</td>\n",
              "    </tr>\n",
              "    <tr>\n",
              "      <th>28</th>\n",
              "      <td>0</td>\n",
              "      <td>At first I thought it was instructions on fixi...</td>\n",
              "      <td>Soperos</td>\n",
              "      <td>WTF</td>\n",
              "      <td>1</td>\n",
              "      <td>-1</td>\n",
              "      <td>-1</td>\n",
              "      <td>2016-10</td>\n",
              "      <td>2016-10-30 19:52:04</td>\n",
              "      <td>Found this under a box of porno mags well clea...</td>\n",
              "    </tr>\n",
              "    <tr>\n",
              "      <th>29</th>\n",
              "      <td>0</td>\n",
              "      <td>This guy, there's no way he isn't trolling, ri...</td>\n",
              "      <td>knezovich</td>\n",
              "      <td>RocketLeagueExchange</td>\n",
              "      <td>1</td>\n",
              "      <td>-1</td>\n",
              "      <td>-1</td>\n",
              "      <td>2016-11</td>\n",
              "      <td>2016-11-06 03:39:29</td>\n",
              "      <td>Who?</td>\n",
              "    </tr>\n",
              "    <tr>\n",
              "      <th>30</th>\n",
              "      <td>0</td>\n",
              "      <td>New</td>\n",
              "      <td>KingAetherrr</td>\n",
              "      <td>ClashRoyale</td>\n",
              "      <td>3</td>\n",
              "      <td>-1</td>\n",
              "      <td>-1</td>\n",
              "      <td>2016-11</td>\n",
              "      <td>2016-11-15 04:42:47</td>\n",
              "      <td>but what format</td>\n",
              "    </tr>\n",
              "    <tr>\n",
              "      <th>31</th>\n",
              "      <td>0</td>\n",
              "      <td>Because they're not real human beings with act...</td>\n",
              "      <td>AnniePostate</td>\n",
              "      <td>exjw</td>\n",
              "      <td>7</td>\n",
              "      <td>7</td>\n",
              "      <td>0</td>\n",
              "      <td>2016-09</td>\n",
              "      <td>2016-09-27 02:22:00</td>\n",
              "      <td>Pro tip - Fool around with worldy girls.</td>\n",
              "    </tr>\n",
              "    <tr>\n",
              "      <th>32</th>\n",
              "      <td>0</td>\n",
              "      <td>Side of a Bullet is fucking great.</td>\n",
              "      <td>QueequegTheater</td>\n",
              "      <td>RWBY</td>\n",
              "      <td>1</td>\n",
              "      <td>-1</td>\n",
              "      <td>-1</td>\n",
              "      <td>2016-10</td>\n",
              "      <td>2016-10-21 14:48:10</td>\n",
              "      <td>*is confused why so many people dislike Nickel...</td>\n",
              "    </tr>\n",
              "    <tr>\n",
              "      <th>33</th>\n",
              "      <td>1</td>\n",
              "      <td>But they'll have all those reviews!</td>\n",
              "      <td>RoguishPoppet</td>\n",
              "      <td>ProductTesting</td>\n",
              "      <td>0</td>\n",
              "      <td>-1</td>\n",
              "      <td>-1</td>\n",
              "      <td>2016-11</td>\n",
              "      <td>2016-11-01 02:04:59</td>\n",
              "      <td>The dumb thing is, they are risking their sell...</td>\n",
              "    </tr>\n",
              "    <tr>\n",
              "      <th>34</th>\n",
              "      <td>0</td>\n",
              "      <td>Kiiiiiiiil me</td>\n",
              "      <td>DietrichDoesDamage</td>\n",
              "      <td>letsgofish</td>\n",
              "      <td>2</td>\n",
              "      <td>2</td>\n",
              "      <td>0</td>\n",
              "      <td>2016-09</td>\n",
              "      <td>2016-09-05 00:00:35</td>\n",
              "      <td>PGT: 9/4 vs. Indians All rants and angry posts...</td>\n",
              "    </tr>\n",
              "    <tr>\n",
              "      <th>35</th>\n",
              "      <td>0</td>\n",
              "      <td>r/fuckyouididthemath</td>\n",
              "      <td>xVamplify</td>\n",
              "      <td>videos</td>\n",
              "      <td>3</td>\n",
              "      <td>-1</td>\n",
              "      <td>-1</td>\n",
              "      <td>2016-12</td>\n",
              "      <td>2016-12-31 16:37:40</td>\n",
              "      <td>This is a great response! Too bad about the la...</td>\n",
              "    </tr>\n",
              "    <tr>\n",
              "      <th>36</th>\n",
              "      <td>0</td>\n",
              "      <td>Even about that round of golf?</td>\n",
              "      <td>drunk98</td>\n",
              "      <td>CrazyIdeas</td>\n",
              "      <td>1</td>\n",
              "      <td>-1</td>\n",
              "      <td>-1</td>\n",
              "      <td>2016-10</td>\n",
              "      <td>2016-10-08 09:09:32</td>\n",
              "      <td>North Korea has never lied. Not once.</td>\n",
              "    </tr>\n",
              "    <tr>\n",
              "      <th>37</th>\n",
              "      <td>0</td>\n",
              "      <td>My stuffed animal I've had since I was born.</td>\n",
              "      <td>kn1820</td>\n",
              "      <td>AskReddit</td>\n",
              "      <td>1</td>\n",
              "      <td>-1</td>\n",
              "      <td>-1</td>\n",
              "      <td>2016-10</td>\n",
              "      <td>2016-10-11 11:17:42</td>\n",
              "      <td>Your house is burning down and you only have t...</td>\n",
              "    </tr>\n",
              "    <tr>\n",
              "      <th>38</th>\n",
              "      <td>0</td>\n",
              "      <td>I only watched the first 20 mins bc I fell asl...</td>\n",
              "      <td>LemonLimeAlltheTime</td>\n",
              "      <td>Games</td>\n",
              "      <td>1</td>\n",
              "      <td>-1</td>\n",
              "      <td>-1</td>\n",
              "      <td>2016-10</td>\n",
              "      <td>2016-10-05 23:08:46</td>\n",
              "      <td>Poor Dan. He looks like he needs some coffee o...</td>\n",
              "    </tr>\n",
              "    <tr>\n",
              "      <th>39</th>\n",
              "      <td>0</td>\n",
              "      <td>Lube up and take it?</td>\n",
              "      <td>lilschlicker</td>\n",
              "      <td>nfl</td>\n",
              "      <td>0</td>\n",
              "      <td>-1</td>\n",
              "      <td>-1</td>\n",
              "      <td>2016-11</td>\n",
              "      <td>2016-11-01 02:31:45</td>\n",
              "      <td>This season's NFC equivalent of the Browns is ...</td>\n",
              "    </tr>\n",
              "    <tr>\n",
              "      <th>40</th>\n",
              "      <td>0</td>\n",
              "      <td>Funny how the media chose to never bring it up...</td>\n",
              "      <td>MustangMark83</td>\n",
              "      <td>The_Donald</td>\n",
              "      <td>11</td>\n",
              "      <td>-1</td>\n",
              "      <td>-1</td>\n",
              "      <td>2016-12</td>\n",
              "      <td>2016-12-27 23:41:25</td>\n",
              "      <td>Umm yes! It was a huge scandal, do you not mem...</td>\n",
              "    </tr>\n",
              "    <tr>\n",
              "      <th>41</th>\n",
              "      <td>0</td>\n",
              "      <td>cant go wrong with yahudi and DAP ....Soros as...</td>\n",
              "      <td>jwrx</td>\n",
              "      <td>malaysia</td>\n",
              "      <td>5</td>\n",
              "      <td>-1</td>\n",
              "      <td>-1</td>\n",
              "      <td>2016-11</td>\n",
              "      <td>2016-11-01 02:34:24</td>\n",
              "      <td>Hey... Don't you know that a convoluted unsupp...</td>\n",
              "    </tr>\n",
              "    <tr>\n",
              "      <th>42</th>\n",
              "      <td>0</td>\n",
              "      <td>1571049</td>\n",
              "      <td>RandomRedditorWithNo</td>\n",
              "      <td>counting</td>\n",
              "      <td>1</td>\n",
              "      <td>-1</td>\n",
              "      <td>-1</td>\n",
              "      <td>2016-12</td>\n",
              "      <td>2016-12-17 06:56:28</td>\n",
              "      <td>1,571,048</td>\n",
              "    </tr>\n",
              "    <tr>\n",
              "      <th>43</th>\n",
              "      <td>0</td>\n",
              "      <td>Roger is such a good owner</td>\n",
              "      <td>I_give_rimjob_4_free</td>\n",
              "      <td>leagueoflegends</td>\n",
              "      <td>0</td>\n",
              "      <td>-1</td>\n",
              "      <td>-1</td>\n",
              "      <td>2016-11</td>\n",
              "      <td>2016-11-06 17:16:25</td>\n",
              "      <td>But i liked Xpascal better with tartle then wi...</td>\n",
              "    </tr>\n",
              "    <tr>\n",
              "      <th>44</th>\n",
              "      <td>1</td>\n",
              "      <td>wow it is totally unreasonable to assume that ...</td>\n",
              "      <td>pb2crazy</td>\n",
              "      <td>politics</td>\n",
              "      <td>2</td>\n",
              "      <td>-1</td>\n",
              "      <td>-1</td>\n",
              "      <td>2016-11</td>\n",
              "      <td>2016-11-01 02:42:11</td>\n",
              "      <td>Clinton campaign accuses FBI of 'blatant doubl...</td>\n",
              "    </tr>\n",
              "    <tr>\n",
              "      <th>45</th>\n",
              "      <td>1</td>\n",
              "      <td>Ho ho ho... But Melania said that there is no ...</td>\n",
              "      <td>pb2crazy</td>\n",
              "      <td>politics</td>\n",
              "      <td>8</td>\n",
              "      <td>-1</td>\n",
              "      <td>-1</td>\n",
              "      <td>2016-10</td>\n",
              "      <td>2016-10-18 16:20:53</td>\n",
              "      <td>Anyone else think that it was interesting the ...</td>\n",
              "    </tr>\n",
              "    <tr>\n",
              "      <th>46</th>\n",
              "      <td>0</td>\n",
              "      <td>TBH, that giant dent was probably made by the ...</td>\n",
              "      <td>doihavemakeanewword</td>\n",
              "      <td>MapPorn</td>\n",
              "      <td>5</td>\n",
              "      <td>-1</td>\n",
              "      <td>-1</td>\n",
              "      <td>2016-10</td>\n",
              "      <td>2016-10-22 18:22:36</td>\n",
              "      <td>This map makes it look like there's a giant, l...</td>\n",
              "    </tr>\n",
              "    <tr>\n",
              "      <th>47</th>\n",
              "      <td>0</td>\n",
              "      <td>How I'm considered an asshole because I let pe...</td>\n",
              "      <td>Durts</td>\n",
              "      <td>AskReddit</td>\n",
              "      <td>1</td>\n",
              "      <td>-1</td>\n",
              "      <td>-1</td>\n",
              "      <td>2016-12</td>\n",
              "      <td>2016-12-08 03:48:17</td>\n",
              "      <td>What do you hate the most about the mainstream?</td>\n",
              "    </tr>\n",
              "    <tr>\n",
              "      <th>48</th>\n",
              "      <td>0</td>\n",
              "      <td>Try talking to the department head</td>\n",
              "      <td>Dropdat87</td>\n",
              "      <td>minnesotavikings</td>\n",
              "      <td>1</td>\n",
              "      <td>-1</td>\n",
              "      <td>-1</td>\n",
              "      <td>2016-11</td>\n",
              "      <td>2016-11-06 20:18:17</td>\n",
              "      <td>Random question, how much of a pain in the ass...</td>\n",
              "    </tr>\n",
              "    <tr>\n",
              "      <th>49</th>\n",
              "      <td>0</td>\n",
              "      <td>run run pass punt</td>\n",
              "      <td>ColdCaulkCraig</td>\n",
              "      <td>nfl</td>\n",
              "      <td>6</td>\n",
              "      <td>-1</td>\n",
              "      <td>-1</td>\n",
              "      <td>2016-12</td>\n",
              "      <td>2016-12-20 01:22:39</td>\n",
              "      <td>Doug Marrone named Jaguars interim head coach.</td>\n",
              "    </tr>\n",
              "  </tbody>\n",
              "</table>\n",
              "</div>"
            ],
            "text/plain": [
              "    label  ...                                     parent_comment\n",
              "0       0  ...  Yeah, I get that argument. At this point, I'd ...\n",
              "1       0  ...  The blazers and Mavericks (The wests 5 and 6 s...\n",
              "2       0  ...                            They're favored to win.\n",
              "3       0  ...                         deadass don't kill my buzz\n",
              "4       0  ...  Yep can confirm I saw the tool they use for th...\n",
              "5       0  ...                   do you find ariana grande sexy ?\n",
              "6       0  ...  What's your weird or unsettling Trick or Treat...\n",
              "7       0  ...  Probably Sephiroth. I refuse to taint his grea...\n",
              "8       0  ...  What to upgrade? I have $500 to spend (mainly ...\n",
              "9       0  ...  Probably count Kanye out Since the rest of his...\n",
              "10      0  ...  I bet if that money was poured into college de...\n",
              "11      0  ...     James Shields Will Not Exercise Opt-Out Clause\n",
              "12      0  ...  There's no time to worry about leaks when they...\n",
              "13      0  ...  Team Specific Threads No matter how many artic...\n",
              "14      0  ...  Ill give you a hint. They commented in this th...\n",
              "15      0  ...  Star Wars, easy. I'm not that bothered about I...\n",
              "16      0  ...                                   You're adorable.\n",
              "17      0  ...  He actually acts like a moody emo girl on twit...\n",
              "18      0  ...  Clinton struggles to gain traction in Florida,...\n",
              "19      0  ...            Is that the Older Clark and Older Lois?\n",
              "20      0  ...  *Guilt roles over Mel, and he hesitates for a ...\n",
              "21      0  ...      They will never get the stability of the 3DS.\n",
              "22      0  ...  I still doubt that \"all conservatives stand fo...\n",
              "23      0  ...  Today Russian media tweeted out that Wikileaks...\n",
              "24      0  ...  Thank you, Jagex, for being cool Jagex has alw...\n",
              "25      0  ...                                  467 A lovely way!\n",
              "26      0  ...                                          Jesus got\n",
              "27      0  ...  \"You are like the end piece of bread in a loaf...\n",
              "28      0  ...  Found this under a box of porno mags well clea...\n",
              "29      0  ...                                               Who?\n",
              "30      0  ...                                    but what format\n",
              "31      0  ...           Pro tip - Fool around with worldy girls.\n",
              "32      0  ...  *is confused why so many people dislike Nickel...\n",
              "33      1  ...  The dumb thing is, they are risking their sell...\n",
              "34      0  ...  PGT: 9/4 vs. Indians All rants and angry posts...\n",
              "35      0  ...  This is a great response! Too bad about the la...\n",
              "36      0  ...              North Korea has never lied. Not once.\n",
              "37      0  ...  Your house is burning down and you only have t...\n",
              "38      0  ...  Poor Dan. He looks like he needs some coffee o...\n",
              "39      0  ...  This season's NFC equivalent of the Browns is ...\n",
              "40      0  ...  Umm yes! It was a huge scandal, do you not mem...\n",
              "41      0  ...  Hey... Don't you know that a convoluted unsupp...\n",
              "42      0  ...                                          1,571,048\n",
              "43      0  ...  But i liked Xpascal better with tartle then wi...\n",
              "44      1  ...  Clinton campaign accuses FBI of 'blatant doubl...\n",
              "45      1  ...  Anyone else think that it was interesting the ...\n",
              "46      0  ...  This map makes it look like there's a giant, l...\n",
              "47      0  ...    What do you hate the most about the mainstream?\n",
              "48      0  ...  Random question, how much of a pain in the ass...\n",
              "49      0  ...     Doug Marrone named Jaguars interim head coach.\n",
              "\n",
              "[50 rows x 10 columns]"
            ]
          },
          "execution_count": 14,
          "metadata": {},
          "output_type": "execute_result"
        }
      ]
    },
    {
      "cell_type": "code",
      "metadata": {
        "id": "8OPaK21LZFSj"
      },
      "source": [
        ""
      ],
      "execution_count": null,
      "outputs": []
    },
    {
      "cell_type": "code",
      "metadata": {
        "colab": {
          "base_uri": "https://localhost:8080/"
        },
        "id": "uOrsXFtJ1Hr7",
        "outputId": "030f638f-6ea6-4e4a-a6da-23973df5c4e6"
      },
      "source": [
        "train_df.info()"
      ],
      "execution_count": null,
      "outputs": [
        {
          "name": "stdout",
          "output_type": "stream",
          "text": [
            "<class 'pandas.core.frame.DataFrame'>\n",
            "Int64Index: 1010773 entries, 0 to 1010825\n",
            "Data columns (total 10 columns):\n",
            " #   Column          Non-Null Count    Dtype \n",
            "---  ------          --------------    ----- \n",
            " 0   label           1010773 non-null  int64 \n",
            " 1   comment         1010773 non-null  object\n",
            " 2   author          1010773 non-null  object\n",
            " 3   subreddit       1010773 non-null  object\n",
            " 4   score           1010773 non-null  int64 \n",
            " 5   ups             1010773 non-null  int64 \n",
            " 6   downs           1010773 non-null  int64 \n",
            " 7   date            1010773 non-null  object\n",
            " 8   created_utc     1010773 non-null  object\n",
            " 9   parent_comment  1010773 non-null  object\n",
            "dtypes: int64(4), object(6)\n",
            "memory usage: 84.8+ MB\n"
          ]
        }
      ]
    },
    {
      "cell_type": "code",
      "metadata": {
        "id": "dIsRlirP1Uxu"
      },
      "source": [
        "train_df.dropna(subset=['parent_comment'], inplace=True)\n",
        "train_df.dropna(subset=['label'], inplace=True)\n",
        "train_df.dropna(subset=['comment'], inplace=True)"
      ],
      "execution_count": null,
      "outputs": []
    },
    {
      "cell_type": "code",
      "metadata": {
        "id": "oXihcPKqXYB4"
      },
      "source": [
        "import re"
      ],
      "execution_count": null,
      "outputs": []
    },
    {
      "cell_type": "code",
      "metadata": {
        "id": "FJfdLUx6un1h"
      },
      "source": [
        "def preprocessing_text(s):\n",
        "    s = str(s).lower().strip()\n",
        "    s = re.sub('\\n', '', s)\n",
        "    s = re.sub(r\"([?!,+=—&%\\'\\\";:¿।।।|\\(\\){}\\[\\]//])\", r\" \\1 \", s)\n",
        "    s = re.sub('[ ]{2,}', ' ', s).strip()\n",
        "    \n",
        "    return s"
      ],
      "execution_count": null,
      "outputs": []
    },
    {
      "cell_type": "code",
      "metadata": {
        "colab": {
          "base_uri": "https://localhost:8080/",
          "height": 289
        },
        "id": "B0OVD-17un8n",
        "outputId": "8f29d68f-ffa9-4da4-8d3a-b09539c6cec1"
      },
      "source": [
        "train_df['parent_comment'] = train_df['parent_comment'].apply(preprocessing_text)\n",
        "train_df['comment'] = train_df['comment'].apply(preprocessing_text)\n",
        "train_df.head()"
      ],
      "execution_count": null,
      "outputs": [
        {
          "output_type": "execute_result",
          "data": {
            "text/html": [
              "<div>\n",
              "<style scoped>\n",
              "    .dataframe tbody tr th:only-of-type {\n",
              "        vertical-align: middle;\n",
              "    }\n",
              "\n",
              "    .dataframe tbody tr th {\n",
              "        vertical-align: top;\n",
              "    }\n",
              "\n",
              "    .dataframe thead th {\n",
              "        text-align: right;\n",
              "    }\n",
              "</style>\n",
              "<table border=\"1\" class=\"dataframe\">\n",
              "  <thead>\n",
              "    <tr style=\"text-align: right;\">\n",
              "      <th></th>\n",
              "      <th>label</th>\n",
              "      <th>comment</th>\n",
              "      <th>author</th>\n",
              "      <th>subreddit</th>\n",
              "      <th>score</th>\n",
              "      <th>ups</th>\n",
              "      <th>downs</th>\n",
              "      <th>date</th>\n",
              "      <th>created_utc</th>\n",
              "      <th>parent_comment</th>\n",
              "    </tr>\n",
              "  </thead>\n",
              "  <tbody>\n",
              "    <tr>\n",
              "      <th>0</th>\n",
              "      <td>0</td>\n",
              "      <td>nc and nh.</td>\n",
              "      <td>Trumpbart</td>\n",
              "      <td>politics</td>\n",
              "      <td>2</td>\n",
              "      <td>-1</td>\n",
              "      <td>-1</td>\n",
              "      <td>2016-10</td>\n",
              "      <td>2016-10-16 23:55:23</td>\n",
              "      <td>yeah , i get that argument. at this point , i ...</td>\n",
              "    </tr>\n",
              "    <tr>\n",
              "      <th>1</th>\n",
              "      <td>0</td>\n",
              "      <td>you do know west teams play against west teams...</td>\n",
              "      <td>Shbshb906</td>\n",
              "      <td>nba</td>\n",
              "      <td>-4</td>\n",
              "      <td>-1</td>\n",
              "      <td>-1</td>\n",
              "      <td>2016-11</td>\n",
              "      <td>2016-11-01 00:24:10</td>\n",
              "      <td>the blazers and mavericks ( the wests 5 and 6 ...</td>\n",
              "    </tr>\n",
              "    <tr>\n",
              "      <th>2</th>\n",
              "      <td>0</td>\n",
              "      <td>they were underdogs earlier today , but since ...</td>\n",
              "      <td>Creepeth</td>\n",
              "      <td>nfl</td>\n",
              "      <td>3</td>\n",
              "      <td>3</td>\n",
              "      <td>0</td>\n",
              "      <td>2016-09</td>\n",
              "      <td>2016-09-22 21:45:37</td>\n",
              "      <td>they ' re favored to win.</td>\n",
              "    </tr>\n",
              "    <tr>\n",
              "      <th>3</th>\n",
              "      <td>0</td>\n",
              "      <td>this meme isn ' t funny none of the \" new york...</td>\n",
              "      <td>icebrotha</td>\n",
              "      <td>BlackPeopleTwitter</td>\n",
              "      <td>-8</td>\n",
              "      <td>-1</td>\n",
              "      <td>-1</td>\n",
              "      <td>2016-10</td>\n",
              "      <td>2016-10-18 21:03:47</td>\n",
              "      <td>deadass don ' t kill my buzz</td>\n",
              "    </tr>\n",
              "    <tr>\n",
              "      <th>4</th>\n",
              "      <td>0</td>\n",
              "      <td>i could use one of those tools.</td>\n",
              "      <td>cush2push</td>\n",
              "      <td>MaddenUltimateTeam</td>\n",
              "      <td>6</td>\n",
              "      <td>-1</td>\n",
              "      <td>-1</td>\n",
              "      <td>2016-12</td>\n",
              "      <td>2016-12-30 17:00:13</td>\n",
              "      <td>yep can confirm i saw the tool they use for th...</td>\n",
              "    </tr>\n",
              "  </tbody>\n",
              "</table>\n",
              "</div>"
            ],
            "text/plain": [
              "   label  ...                                     parent_comment\n",
              "0      0  ...  yeah , i get that argument. at this point , i ...\n",
              "1      0  ...  the blazers and mavericks ( the wests 5 and 6 ...\n",
              "2      0  ...                          they ' re favored to win.\n",
              "3      0  ...                       deadass don ' t kill my buzz\n",
              "4      0  ...  yep can confirm i saw the tool they use for th...\n",
              "\n",
              "[5 rows x 10 columns]"
            ]
          },
          "metadata": {},
          "execution_count": 16
        }
      ]
    },
    {
      "cell_type": "code",
      "metadata": {
        "id": "xu7_OUQs1yF4"
      },
      "source": [
        "pd.set_option('display.max_rows', train_df.shape[0]+1)"
      ],
      "execution_count": null,
      "outputs": []
    },
    {
      "cell_type": "code",
      "metadata": {
        "colab": {
          "base_uri": "https://localhost:8080/",
          "height": 1000
        },
        "id": "0Xwm7PIxuoBY",
        "outputId": "b7699eef-7e7c-4e0f-9535-cf57c77ab46f"
      },
      "source": [
        "train_df.head(50)"
      ],
      "execution_count": null,
      "outputs": [
        {
          "data": {
            "text/html": [
              "<div>\n",
              "<style scoped>\n",
              "    .dataframe tbody tr th:only-of-type {\n",
              "        vertical-align: middle;\n",
              "    }\n",
              "\n",
              "    .dataframe tbody tr th {\n",
              "        vertical-align: top;\n",
              "    }\n",
              "\n",
              "    .dataframe thead th {\n",
              "        text-align: right;\n",
              "    }\n",
              "</style>\n",
              "<table border=\"1\" class=\"dataframe\">\n",
              "  <thead>\n",
              "    <tr style=\"text-align: right;\">\n",
              "      <th></th>\n",
              "      <th>label</th>\n",
              "      <th>comment</th>\n",
              "      <th>author</th>\n",
              "      <th>subreddit</th>\n",
              "      <th>score</th>\n",
              "      <th>ups</th>\n",
              "      <th>downs</th>\n",
              "      <th>date</th>\n",
              "      <th>created_utc</th>\n",
              "      <th>parent_comment</th>\n",
              "    </tr>\n",
              "  </thead>\n",
              "  <tbody>\n",
              "    <tr>\n",
              "      <th>0</th>\n",
              "      <td>0</td>\n",
              "      <td>nc and nh.</td>\n",
              "      <td>Trumpbart</td>\n",
              "      <td>politics</td>\n",
              "      <td>2</td>\n",
              "      <td>-1</td>\n",
              "      <td>-1</td>\n",
              "      <td>2016-10</td>\n",
              "      <td>2016-10-16 23:55:23</td>\n",
              "      <td>yeah , i get that argument. at this point , i ...</td>\n",
              "    </tr>\n",
              "    <tr>\n",
              "      <th>1</th>\n",
              "      <td>0</td>\n",
              "      <td>you do know west teams play against west teams...</td>\n",
              "      <td>Shbshb906</td>\n",
              "      <td>nba</td>\n",
              "      <td>-4</td>\n",
              "      <td>-1</td>\n",
              "      <td>-1</td>\n",
              "      <td>2016-11</td>\n",
              "      <td>2016-11-01 00:24:10</td>\n",
              "      <td>the blazers and mavericks ( the wests 5 and 6 ...</td>\n",
              "    </tr>\n",
              "    <tr>\n",
              "      <th>2</th>\n",
              "      <td>0</td>\n",
              "      <td>they were underdogs earlier today , but since ...</td>\n",
              "      <td>Creepeth</td>\n",
              "      <td>nfl</td>\n",
              "      <td>3</td>\n",
              "      <td>3</td>\n",
              "      <td>0</td>\n",
              "      <td>2016-09</td>\n",
              "      <td>2016-09-22 21:45:37</td>\n",
              "      <td>they ' re favored to win.</td>\n",
              "    </tr>\n",
              "    <tr>\n",
              "      <th>3</th>\n",
              "      <td>0</td>\n",
              "      <td>this meme isn ' t funny none of the \" new york...</td>\n",
              "      <td>icebrotha</td>\n",
              "      <td>BlackPeopleTwitter</td>\n",
              "      <td>-8</td>\n",
              "      <td>-1</td>\n",
              "      <td>-1</td>\n",
              "      <td>2016-10</td>\n",
              "      <td>2016-10-18 21:03:47</td>\n",
              "      <td>deadass don ' t kill my buzz</td>\n",
              "    </tr>\n",
              "    <tr>\n",
              "      <th>4</th>\n",
              "      <td>0</td>\n",
              "      <td>i could use one of those tools.</td>\n",
              "      <td>cush2push</td>\n",
              "      <td>MaddenUltimateTeam</td>\n",
              "      <td>6</td>\n",
              "      <td>-1</td>\n",
              "      <td>-1</td>\n",
              "      <td>2016-12</td>\n",
              "      <td>2016-12-30 17:00:13</td>\n",
              "      <td>yep can confirm i saw the tool they use for th...</td>\n",
              "    </tr>\n",
              "    <tr>\n",
              "      <th>5</th>\n",
              "      <td>0</td>\n",
              "      <td>i don ' t pay attention to her , but as long a...</td>\n",
              "      <td>only7inches</td>\n",
              "      <td>AskReddit</td>\n",
              "      <td>0</td>\n",
              "      <td>0</td>\n",
              "      <td>0</td>\n",
              "      <td>2016-09</td>\n",
              "      <td>2016-09-02 10:35:08</td>\n",
              "      <td>do you find ariana grande sexy ?</td>\n",
              "    </tr>\n",
              "    <tr>\n",
              "      <th>6</th>\n",
              "      <td>0</td>\n",
              "      <td>trick or treating in general is just weird...</td>\n",
              "      <td>only7inches</td>\n",
              "      <td>AskReddit</td>\n",
              "      <td>1</td>\n",
              "      <td>-1</td>\n",
              "      <td>-1</td>\n",
              "      <td>2016-10</td>\n",
              "      <td>2016-10-23 21:43:03</td>\n",
              "      <td>what ' s your weird or unsettling trick or tre...</td>\n",
              "    </tr>\n",
              "    <tr>\n",
              "      <th>7</th>\n",
              "      <td>0</td>\n",
              "      <td>blade mastery + masamune or gtfo !</td>\n",
              "      <td>P0k3rm4s7</td>\n",
              "      <td>FFBraveExvius</td>\n",
              "      <td>2</td>\n",
              "      <td>-1</td>\n",
              "      <td>-1</td>\n",
              "      <td>2016-10</td>\n",
              "      <td>2016-10-13 21:13:55</td>\n",
              "      <td>probably sephiroth. i refuse to taint his grea...</td>\n",
              "    </tr>\n",
              "    <tr>\n",
              "      <th>8</th>\n",
              "      <td>0</td>\n",
              "      <td>you don ' t have to , you have a good build , ...</td>\n",
              "      <td>SoupToPots</td>\n",
              "      <td>pcmasterrace</td>\n",
              "      <td>1</td>\n",
              "      <td>-1</td>\n",
              "      <td>-1</td>\n",
              "      <td>2016-10</td>\n",
              "      <td>2016-10-27 19:11:06</td>\n",
              "      <td>what to upgrade ? i have $500 to spend ( mainl...</td>\n",
              "    </tr>\n",
              "    <tr>\n",
              "      <th>9</th>\n",
              "      <td>0</td>\n",
              "      <td>i would love to see him at lolla.</td>\n",
              "      <td>chihawks</td>\n",
              "      <td>Lollapalooza</td>\n",
              "      <td>2</td>\n",
              "      <td>-1</td>\n",
              "      <td>-1</td>\n",
              "      <td>2016-11</td>\n",
              "      <td>2016-11-21 23:39:12</td>\n",
              "      <td>probably count kanye out since the rest of his...</td>\n",
              "    </tr>\n",
              "    <tr>\n",
              "      <th>10</th>\n",
              "      <td>0</td>\n",
              "      <td>i think a significant amount would be against ...</td>\n",
              "      <td>ThisIsNotKimJongUn</td>\n",
              "      <td>politics</td>\n",
              "      <td>92</td>\n",
              "      <td>92</td>\n",
              "      <td>0</td>\n",
              "      <td>2016-09</td>\n",
              "      <td>2016-09-20 17:53:52</td>\n",
              "      <td>i bet if that money was poured into college de...</td>\n",
              "    </tr>\n",
              "    <tr>\n",
              "      <th>11</th>\n",
              "      <td>0</td>\n",
              "      <td>damn i was hoping god was real</td>\n",
              "      <td>Kvetch__22</td>\n",
              "      <td>baseball</td>\n",
              "      <td>14</td>\n",
              "      <td>-1</td>\n",
              "      <td>-1</td>\n",
              "      <td>2016-10</td>\n",
              "      <td>2016-10-28 09:07:50</td>\n",
              "      <td>james shields will not exercise opt-out clause</td>\n",
              "    </tr>\n",
              "    <tr>\n",
              "      <th>12</th>\n",
              "      <td>0</td>\n",
              "      <td>they have an agenda.</td>\n",
              "      <td>Readbooks6</td>\n",
              "      <td>exmormon</td>\n",
              "      <td>4</td>\n",
              "      <td>-1</td>\n",
              "      <td>-1</td>\n",
              "      <td>2016-10</td>\n",
              "      <td>2016-10-15 01:14:03</td>\n",
              "      <td>there ' s no time to worry about leaks when th...</td>\n",
              "    </tr>\n",
              "    <tr>\n",
              "      <th>13</th>\n",
              "      <td>0</td>\n",
              "      <td>great idea !</td>\n",
              "      <td>pieman2005</td>\n",
              "      <td>fantasyfootball</td>\n",
              "      <td>1</td>\n",
              "      <td>-1</td>\n",
              "      <td>-1</td>\n",
              "      <td>2016-10</td>\n",
              "      <td>2016-10-06 23:27:53</td>\n",
              "      <td>team specific threads no matter how many artic...</td>\n",
              "    </tr>\n",
              "    <tr>\n",
              "      <th>14</th>\n",
              "      <td>0</td>\n",
              "      <td>ayy bb wassup , it makes a bit more sense in c...</td>\n",
              "      <td>Jakethejoker</td>\n",
              "      <td>NYGiants</td>\n",
              "      <td>29</td>\n",
              "      <td>29</td>\n",
              "      <td>0</td>\n",
              "      <td>2016-09</td>\n",
              "      <td>2016-09-19 18:46:58</td>\n",
              "      <td>ill give you a hint. they commented in this th...</td>\n",
              "    </tr>\n",
              "    <tr>\n",
              "      <th>15</th>\n",
              "      <td>0</td>\n",
              "      <td>what the fuck</td>\n",
              "      <td>Pishwi</td>\n",
              "      <td>AskReddit</td>\n",
              "      <td>22</td>\n",
              "      <td>-1</td>\n",
              "      <td>-1</td>\n",
              "      <td>2016-11</td>\n",
              "      <td>2016-11-04 20:10:33</td>\n",
              "      <td>star wars , easy. i ' m not that bothered abou...</td>\n",
              "    </tr>\n",
              "    <tr>\n",
              "      <th>16</th>\n",
              "      <td>0</td>\n",
              "      <td>noted.</td>\n",
              "      <td>kozmo1313</td>\n",
              "      <td>NewOrleans</td>\n",
              "      <td>2</td>\n",
              "      <td>-1</td>\n",
              "      <td>-1</td>\n",
              "      <td>2016-12</td>\n",
              "      <td>2016-12-20 21:59:45</td>\n",
              "      <td>you ' re adorable.</td>\n",
              "    </tr>\n",
              "    <tr>\n",
              "      <th>17</th>\n",
              "      <td>0</td>\n",
              "      <td>because it ' s what really bothers him... and ...</td>\n",
              "      <td>kozmo1313</td>\n",
              "      <td>politics</td>\n",
              "      <td>15</td>\n",
              "      <td>-1</td>\n",
              "      <td>-1</td>\n",
              "      <td>2016-12</td>\n",
              "      <td>2016-12-26 20:10:45</td>\n",
              "      <td>he actually acts like a moody emo girl on twit...</td>\n",
              "    </tr>\n",
              "    <tr>\n",
              "      <th>18</th>\n",
              "      <td>0</td>\n",
              "      <td>why you fail me , my precious ?</td>\n",
              "      <td>kozmo1313</td>\n",
              "      <td>HillaryForPrison</td>\n",
              "      <td>1</td>\n",
              "      <td>1</td>\n",
              "      <td>0</td>\n",
              "      <td>2016-09</td>\n",
              "      <td>2016-09-18 13:02:45</td>\n",
              "      <td>clinton struggles to gain traction in florida ...</td>\n",
              "    </tr>\n",
              "    <tr>\n",
              "      <th>19</th>\n",
              "      <td>0</td>\n",
              "      <td>pre-flashpoint clark and lois.</td>\n",
              "      <td>BreakingGarrick</td>\n",
              "      <td>superman</td>\n",
              "      <td>2</td>\n",
              "      <td>2</td>\n",
              "      <td>0</td>\n",
              "      <td>2016-09</td>\n",
              "      <td>2016-09-16 02:34:04</td>\n",
              "      <td>is that the older clark and older lois ?</td>\n",
              "    </tr>\n",
              "    <tr>\n",
              "      <th>20</th>\n",
              "      <td>0</td>\n",
              "      <td>she hugs him back tightly , burying her head i...</td>\n",
              "      <td>EternalCanadian</td>\n",
              "      <td>WarHammer40kRP</td>\n",
              "      <td>1</td>\n",
              "      <td>-1</td>\n",
              "      <td>-1</td>\n",
              "      <td>2016-10</td>\n",
              "      <td>2016-10-28 15:48:21</td>\n",
              "      <td>*guilt roles over mel , and he hesitates for a...</td>\n",
              "    </tr>\n",
              "    <tr>\n",
              "      <th>21</th>\n",
              "      <td>0</td>\n",
              "      <td>at this point they ' re so stable i could buil...</td>\n",
              "      <td>DumbNameIWillRegret</td>\n",
              "      <td>vitahacks</td>\n",
              "      <td>17</td>\n",
              "      <td>-1</td>\n",
              "      <td>-1</td>\n",
              "      <td>2016-11</td>\n",
              "      <td>2016-11-01 15:17:28</td>\n",
              "      <td>they will never get the stability of the 3ds.</td>\n",
              "    </tr>\n",
              "    <tr>\n",
              "      <th>22</th>\n",
              "      <td>0</td>\n",
              "      <td>conservatism as an ideology is for sure a reac...</td>\n",
              "      <td>MayorMcCheese59</td>\n",
              "      <td>politics</td>\n",
              "      <td>1</td>\n",
              "      <td>-1</td>\n",
              "      <td>-1</td>\n",
              "      <td>2016-12</td>\n",
              "      <td>2016-12-24 00:04:06</td>\n",
              "      <td>i still doubt that \" all conservatives stand f...</td>\n",
              "    </tr>\n",
              "    <tr>\n",
              "      <th>23</th>\n",
              "      <td>0</td>\n",
              "      <td>maybe not control , but certainly that is evid...</td>\n",
              "      <td>SunTzu-</td>\n",
              "      <td>politics</td>\n",
              "      <td>1</td>\n",
              "      <td>-1</td>\n",
              "      <td>-1</td>\n",
              "      <td>2016-10</td>\n",
              "      <td>2016-10-13 20:48:14</td>\n",
              "      <td>today russian media tweeted out that wikileaks...</td>\n",
              "    </tr>\n",
              "    <tr>\n",
              "      <th>24</th>\n",
              "      <td>0</td>\n",
              "      <td>mine auto renewed without asking me the other ...</td>\n",
              "      <td>yeaweckin</td>\n",
              "      <td>2007scape</td>\n",
              "      <td>3</td>\n",
              "      <td>-1</td>\n",
              "      <td>-1</td>\n",
              "      <td>2016-11</td>\n",
              "      <td>2016-11-01 01:40:17</td>\n",
              "      <td>thank you , jagex , for being cool jagex has a...</td>\n",
              "    </tr>\n",
              "    <tr>\n",
              "      <th>25</th>\n",
              "      <td>0</td>\n",
              "      <td>466</td>\n",
              "      <td>Cogman117</td>\n",
              "      <td>Overwatch</td>\n",
              "      <td>5</td>\n",
              "      <td>-1</td>\n",
              "      <td>-1</td>\n",
              "      <td>2016-11</td>\n",
              "      <td>2016-11-03 00:20:04</td>\n",
              "      <td>467 a lovely way !</td>\n",
              "    </tr>\n",
              "    <tr>\n",
              "      <th>26</th>\n",
              "      <td>0</td>\n",
              "      <td>jesus is a fnaf fan confirmed</td>\n",
              "      <td>SuperArthurBros</td>\n",
              "      <td>fivenightsatfreddys</td>\n",
              "      <td>2</td>\n",
              "      <td>-1</td>\n",
              "      <td>-1</td>\n",
              "      <td>2016-12</td>\n",
              "      <td>2016-12-25 14:40:14</td>\n",
              "      <td>jesus got</td>\n",
              "    </tr>\n",
              "    <tr>\n",
              "      <th>27</th>\n",
              "      <td>0</td>\n",
              "      <td>this would make me cry.</td>\n",
              "      <td>neutralneutrals</td>\n",
              "      <td>AskReddit</td>\n",
              "      <td>1</td>\n",
              "      <td>-1</td>\n",
              "      <td>-1</td>\n",
              "      <td>2016-11</td>\n",
              "      <td>2016-11-07 12:03:16</td>\n",
              "      <td>\" you are like the end piece of bread in a loa...</td>\n",
              "    </tr>\n",
              "    <tr>\n",
              "      <th>28</th>\n",
              "      <td>0</td>\n",
              "      <td>at first i thought it was instructions on fixi...</td>\n",
              "      <td>Soperos</td>\n",
              "      <td>WTF</td>\n",
              "      <td>1</td>\n",
              "      <td>-1</td>\n",
              "      <td>-1</td>\n",
              "      <td>2016-10</td>\n",
              "      <td>2016-10-30 19:52:04</td>\n",
              "      <td>found this under a box of porno mags well clea...</td>\n",
              "    </tr>\n",
              "    <tr>\n",
              "      <th>29</th>\n",
              "      <td>0</td>\n",
              "      <td>this guy , there ' s no way he isn ' t trollin...</td>\n",
              "      <td>knezovich</td>\n",
              "      <td>RocketLeagueExchange</td>\n",
              "      <td>1</td>\n",
              "      <td>-1</td>\n",
              "      <td>-1</td>\n",
              "      <td>2016-11</td>\n",
              "      <td>2016-11-06 03:39:29</td>\n",
              "      <td>who ?</td>\n",
              "    </tr>\n",
              "    <tr>\n",
              "      <th>30</th>\n",
              "      <td>0</td>\n",
              "      <td>new</td>\n",
              "      <td>KingAetherrr</td>\n",
              "      <td>ClashRoyale</td>\n",
              "      <td>3</td>\n",
              "      <td>-1</td>\n",
              "      <td>-1</td>\n",
              "      <td>2016-11</td>\n",
              "      <td>2016-11-15 04:42:47</td>\n",
              "      <td>but what format</td>\n",
              "    </tr>\n",
              "    <tr>\n",
              "      <th>31</th>\n",
              "      <td>0</td>\n",
              "      <td>because they ' re not real human beings with a...</td>\n",
              "      <td>AnniePostate</td>\n",
              "      <td>exjw</td>\n",
              "      <td>7</td>\n",
              "      <td>7</td>\n",
              "      <td>0</td>\n",
              "      <td>2016-09</td>\n",
              "      <td>2016-09-27 02:22:00</td>\n",
              "      <td>pro tip - fool around with worldy girls.</td>\n",
              "    </tr>\n",
              "    <tr>\n",
              "      <th>32</th>\n",
              "      <td>0</td>\n",
              "      <td>side of a bullet is fucking great.</td>\n",
              "      <td>QueequegTheater</td>\n",
              "      <td>RWBY</td>\n",
              "      <td>1</td>\n",
              "      <td>-1</td>\n",
              "      <td>-1</td>\n",
              "      <td>2016-10</td>\n",
              "      <td>2016-10-21 14:48:10</td>\n",
              "      <td>*is confused why so many people dislike nickel...</td>\n",
              "    </tr>\n",
              "    <tr>\n",
              "      <th>33</th>\n",
              "      <td>1</td>\n",
              "      <td>but they ' ll have all those reviews !</td>\n",
              "      <td>RoguishPoppet</td>\n",
              "      <td>ProductTesting</td>\n",
              "      <td>0</td>\n",
              "      <td>-1</td>\n",
              "      <td>-1</td>\n",
              "      <td>2016-11</td>\n",
              "      <td>2016-11-01 02:04:59</td>\n",
              "      <td>the dumb thing is , they are risking their sel...</td>\n",
              "    </tr>\n",
              "    <tr>\n",
              "      <th>34</th>\n",
              "      <td>0</td>\n",
              "      <td>kiiiiiiiil me</td>\n",
              "      <td>DietrichDoesDamage</td>\n",
              "      <td>letsgofish</td>\n",
              "      <td>2</td>\n",
              "      <td>2</td>\n",
              "      <td>0</td>\n",
              "      <td>2016-09</td>\n",
              "      <td>2016-09-05 00:00:35</td>\n",
              "      <td>pgt : 9 / 4 vs. indians all rants and angry po...</td>\n",
              "    </tr>\n",
              "    <tr>\n",
              "      <th>35</th>\n",
              "      <td>0</td>\n",
              "      <td>r / fuckyouididthemath</td>\n",
              "      <td>xVamplify</td>\n",
              "      <td>videos</td>\n",
              "      <td>3</td>\n",
              "      <td>-1</td>\n",
              "      <td>-1</td>\n",
              "      <td>2016-12</td>\n",
              "      <td>2016-12-31 16:37:40</td>\n",
              "      <td>this is a great response ! too bad about the l...</td>\n",
              "    </tr>\n",
              "    <tr>\n",
              "      <th>36</th>\n",
              "      <td>0</td>\n",
              "      <td>even about that round of golf ?</td>\n",
              "      <td>drunk98</td>\n",
              "      <td>CrazyIdeas</td>\n",
              "      <td>1</td>\n",
              "      <td>-1</td>\n",
              "      <td>-1</td>\n",
              "      <td>2016-10</td>\n",
              "      <td>2016-10-08 09:09:32</td>\n",
              "      <td>north korea has never lied. not once.</td>\n",
              "    </tr>\n",
              "    <tr>\n",
              "      <th>37</th>\n",
              "      <td>0</td>\n",
              "      <td>my stuffed animal i ' ve had since i was born.</td>\n",
              "      <td>kn1820</td>\n",
              "      <td>AskReddit</td>\n",
              "      <td>1</td>\n",
              "      <td>-1</td>\n",
              "      <td>-1</td>\n",
              "      <td>2016-10</td>\n",
              "      <td>2016-10-11 11:17:42</td>\n",
              "      <td>your house is burning down and you only have t...</td>\n",
              "    </tr>\n",
              "    <tr>\n",
              "      <th>38</th>\n",
              "      <td>0</td>\n",
              "      <td>i only watched the first 20 mins bc i fell asl...</td>\n",
              "      <td>LemonLimeAlltheTime</td>\n",
              "      <td>Games</td>\n",
              "      <td>1</td>\n",
              "      <td>-1</td>\n",
              "      <td>-1</td>\n",
              "      <td>2016-10</td>\n",
              "      <td>2016-10-05 23:08:46</td>\n",
              "      <td>poor dan. he looks like he needs some coffee o...</td>\n",
              "    </tr>\n",
              "    <tr>\n",
              "      <th>39</th>\n",
              "      <td>0</td>\n",
              "      <td>lube up and take it ?</td>\n",
              "      <td>lilschlicker</td>\n",
              "      <td>nfl</td>\n",
              "      <td>0</td>\n",
              "      <td>-1</td>\n",
              "      <td>-1</td>\n",
              "      <td>2016-11</td>\n",
              "      <td>2016-11-01 02:31:45</td>\n",
              "      <td>this season ' s nfc equivalent of the browns i...</td>\n",
              "    </tr>\n",
              "    <tr>\n",
              "      <th>40</th>\n",
              "      <td>0</td>\n",
              "      <td>funny how the media chose to never bring it up...</td>\n",
              "      <td>MustangMark83</td>\n",
              "      <td>The_Donald</td>\n",
              "      <td>11</td>\n",
              "      <td>-1</td>\n",
              "      <td>-1</td>\n",
              "      <td>2016-12</td>\n",
              "      <td>2016-12-27 23:41:25</td>\n",
              "      <td>umm yes ! it was a huge scandal , do you not m...</td>\n",
              "    </tr>\n",
              "    <tr>\n",
              "      <th>41</th>\n",
              "      <td>0</td>\n",
              "      <td>cant go wrong with yahudi and dap ....soros as...</td>\n",
              "      <td>jwrx</td>\n",
              "      <td>malaysia</td>\n",
              "      <td>5</td>\n",
              "      <td>-1</td>\n",
              "      <td>-1</td>\n",
              "      <td>2016-11</td>\n",
              "      <td>2016-11-01 02:34:24</td>\n",
              "      <td>hey... don ' t you know that a convoluted unsu...</td>\n",
              "    </tr>\n",
              "    <tr>\n",
              "      <th>42</th>\n",
              "      <td>0</td>\n",
              "      <td>1571049</td>\n",
              "      <td>RandomRedditorWithNo</td>\n",
              "      <td>counting</td>\n",
              "      <td>1</td>\n",
              "      <td>-1</td>\n",
              "      <td>-1</td>\n",
              "      <td>2016-12</td>\n",
              "      <td>2016-12-17 06:56:28</td>\n",
              "      <td>1 , 571 , 048</td>\n",
              "    </tr>\n",
              "    <tr>\n",
              "      <th>43</th>\n",
              "      <td>0</td>\n",
              "      <td>roger is such a good owner</td>\n",
              "      <td>I_give_rimjob_4_free</td>\n",
              "      <td>leagueoflegends</td>\n",
              "      <td>0</td>\n",
              "      <td>-1</td>\n",
              "      <td>-1</td>\n",
              "      <td>2016-11</td>\n",
              "      <td>2016-11-06 17:16:25</td>\n",
              "      <td>but i liked xpascal better with tartle then wi...</td>\n",
              "    </tr>\n",
              "    <tr>\n",
              "      <th>44</th>\n",
              "      <td>1</td>\n",
              "      <td>wow it is totally unreasonable to assume that ...</td>\n",
              "      <td>pb2crazy</td>\n",
              "      <td>politics</td>\n",
              "      <td>2</td>\n",
              "      <td>-1</td>\n",
              "      <td>-1</td>\n",
              "      <td>2016-11</td>\n",
              "      <td>2016-11-01 02:42:11</td>\n",
              "      <td>clinton campaign accuses fbi of ' blatant doub...</td>\n",
              "    </tr>\n",
              "    <tr>\n",
              "      <th>45</th>\n",
              "      <td>1</td>\n",
              "      <td>ho ho ho... but melania said that there is no ...</td>\n",
              "      <td>pb2crazy</td>\n",
              "      <td>politics</td>\n",
              "      <td>8</td>\n",
              "      <td>-1</td>\n",
              "      <td>-1</td>\n",
              "      <td>2016-10</td>\n",
              "      <td>2016-10-18 16:20:53</td>\n",
              "      <td>anyone else think that it was interesting the ...</td>\n",
              "    </tr>\n",
              "    <tr>\n",
              "      <th>46</th>\n",
              "      <td>0</td>\n",
              "      <td>tbh , that giant dent was probably made by the...</td>\n",
              "      <td>doihavemakeanewword</td>\n",
              "      <td>MapPorn</td>\n",
              "      <td>5</td>\n",
              "      <td>-1</td>\n",
              "      <td>-1</td>\n",
              "      <td>2016-10</td>\n",
              "      <td>2016-10-22 18:22:36</td>\n",
              "      <td>this map makes it look like there ' s a giant ...</td>\n",
              "    </tr>\n",
              "    <tr>\n",
              "      <th>47</th>\n",
              "      <td>0</td>\n",
              "      <td>how i ' m considered an asshole because i let ...</td>\n",
              "      <td>Durts</td>\n",
              "      <td>AskReddit</td>\n",
              "      <td>1</td>\n",
              "      <td>-1</td>\n",
              "      <td>-1</td>\n",
              "      <td>2016-12</td>\n",
              "      <td>2016-12-08 03:48:17</td>\n",
              "      <td>what do you hate the most about the mainstream ?</td>\n",
              "    </tr>\n",
              "    <tr>\n",
              "      <th>48</th>\n",
              "      <td>0</td>\n",
              "      <td>try talking to the department head</td>\n",
              "      <td>Dropdat87</td>\n",
              "      <td>minnesotavikings</td>\n",
              "      <td>1</td>\n",
              "      <td>-1</td>\n",
              "      <td>-1</td>\n",
              "      <td>2016-11</td>\n",
              "      <td>2016-11-06 20:18:17</td>\n",
              "      <td>random question , how much of a pain in the as...</td>\n",
              "    </tr>\n",
              "    <tr>\n",
              "      <th>49</th>\n",
              "      <td>0</td>\n",
              "      <td>run run pass punt</td>\n",
              "      <td>ColdCaulkCraig</td>\n",
              "      <td>nfl</td>\n",
              "      <td>6</td>\n",
              "      <td>-1</td>\n",
              "      <td>-1</td>\n",
              "      <td>2016-12</td>\n",
              "      <td>2016-12-20 01:22:39</td>\n",
              "      <td>doug marrone named jaguars interim head coach.</td>\n",
              "    </tr>\n",
              "  </tbody>\n",
              "</table>\n",
              "</div>"
            ],
            "text/plain": [
              "    label  ...                                     parent_comment\n",
              "0       0  ...  yeah , i get that argument. at this point , i ...\n",
              "1       0  ...  the blazers and mavericks ( the wests 5 and 6 ...\n",
              "2       0  ...                          they ' re favored to win.\n",
              "3       0  ...                       deadass don ' t kill my buzz\n",
              "4       0  ...  yep can confirm i saw the tool they use for th...\n",
              "5       0  ...                   do you find ariana grande sexy ?\n",
              "6       0  ...  what ' s your weird or unsettling trick or tre...\n",
              "7       0  ...  probably sephiroth. i refuse to taint his grea...\n",
              "8       0  ...  what to upgrade ? i have $500 to spend ( mainl...\n",
              "9       0  ...  probably count kanye out since the rest of his...\n",
              "10      0  ...  i bet if that money was poured into college de...\n",
              "11      0  ...     james shields will not exercise opt-out clause\n",
              "12      0  ...  there ' s no time to worry about leaks when th...\n",
              "13      0  ...  team specific threads no matter how many artic...\n",
              "14      0  ...  ill give you a hint. they commented in this th...\n",
              "15      0  ...  star wars , easy. i ' m not that bothered abou...\n",
              "16      0  ...                                 you ' re adorable.\n",
              "17      0  ...  he actually acts like a moody emo girl on twit...\n",
              "18      0  ...  clinton struggles to gain traction in florida ...\n",
              "19      0  ...           is that the older clark and older lois ?\n",
              "20      0  ...  *guilt roles over mel , and he hesitates for a...\n",
              "21      0  ...      they will never get the stability of the 3ds.\n",
              "22      0  ...  i still doubt that \" all conservatives stand f...\n",
              "23      0  ...  today russian media tweeted out that wikileaks...\n",
              "24      0  ...  thank you , jagex , for being cool jagex has a...\n",
              "25      0  ...                                 467 a lovely way !\n",
              "26      0  ...                                          jesus got\n",
              "27      0  ...  \" you are like the end piece of bread in a loa...\n",
              "28      0  ...  found this under a box of porno mags well clea...\n",
              "29      0  ...                                              who ?\n",
              "30      0  ...                                    but what format\n",
              "31      0  ...           pro tip - fool around with worldy girls.\n",
              "32      0  ...  *is confused why so many people dislike nickel...\n",
              "33      1  ...  the dumb thing is , they are risking their sel...\n",
              "34      0  ...  pgt : 9 / 4 vs. indians all rants and angry po...\n",
              "35      0  ...  this is a great response ! too bad about the l...\n",
              "36      0  ...              north korea has never lied. not once.\n",
              "37      0  ...  your house is burning down and you only have t...\n",
              "38      0  ...  poor dan. he looks like he needs some coffee o...\n",
              "39      0  ...  this season ' s nfc equivalent of the browns i...\n",
              "40      0  ...  umm yes ! it was a huge scandal , do you not m...\n",
              "41      0  ...  hey... don ' t you know that a convoluted unsu...\n",
              "42      0  ...                                      1 , 571 , 048\n",
              "43      0  ...  but i liked xpascal better with tartle then wi...\n",
              "44      1  ...  clinton campaign accuses fbi of ' blatant doub...\n",
              "45      1  ...  anyone else think that it was interesting the ...\n",
              "46      0  ...  this map makes it look like there ' s a giant ...\n",
              "47      0  ...   what do you hate the most about the mainstream ?\n",
              "48      0  ...  random question , how much of a pain in the as...\n",
              "49      0  ...     doug marrone named jaguars interim head coach.\n",
              "\n",
              "[50 rows x 10 columns]"
            ]
          },
          "execution_count": 22,
          "metadata": {},
          "output_type": "execute_result"
        }
      ]
    },
    {
      "cell_type": "code",
      "metadata": {
        "id": "z0r6pCt51U2K"
      },
      "source": [
        "train_texts, test_texts, y_train, y_test = \\\n",
        "        train_test_split(train_df['parent_comment'], train_df['label'],test_size=0.2, random_state=17)"
      ],
      "execution_count": null,
      "outputs": []
    },
    {
      "cell_type": "code",
      "metadata": {
        "id": "h2_8dit_01Uz"
      },
      "source": [
        "train_texts, valid_texts, y_train, y_valid = \\\n",
        "        train_test_split(train_texts,y_train,test_size=0.3, random_state=17)"
      ],
      "execution_count": null,
      "outputs": []
    },
    {
      "cell_type": "code",
      "metadata": {
        "colab": {
          "base_uri": "https://localhost:8080/"
        },
        "id": "YCcY2JI71U45",
        "outputId": "625c71f4-4ed4-4b2b-9b2f-01756ae28e32"
      },
      "source": [
        "train_texts.head()"
      ],
      "execution_count": null,
      "outputs": [
        {
          "data": {
            "text/plain": [
              "777207    wait so they say \" you have to have health ins...\n",
              "887660    i ' m just buying destiny for fall. i think it...\n",
              "368348    i understand youre thought process. i just thi...\n",
              "212850    new ironman is a 15 year old black woman engin...\n",
              "928818    thats surprising but i can ' t disagree. uggla...\n",
              "Name: parent_comment, dtype: object"
            ]
          },
          "execution_count": 22,
          "metadata": {
            "tags": []
          },
          "output_type": "execute_result"
        }
      ]
    },
    {
      "cell_type": "code",
      "metadata": {
        "colab": {
          "base_uri": "https://localhost:8080/"
        },
        "id": "HEs09vXA1U8o",
        "outputId": "afbd4dbe-2016-462b-f03f-ab6363358f7b"
      },
      "source": [
        "valid_texts.head()"
      ],
      "execution_count": null,
      "outputs": [
        {
          "data": {
            "text/plain": [
              "672232    the bliz panel is on the morning of the 6th so...\n",
              "87402     maybe make each weapon a line of cards that ma...\n",
              "97681                           many many the greatest many\n",
              "735904    i ' m an iowan and live about 20 miles from pe...\n",
              "393598    who else is waiting for fo4 and all dlc to be ...\n",
              "Name: parent_comment, dtype: object"
            ]
          },
          "execution_count": 23,
          "metadata": {
            "tags": []
          },
          "output_type": "execute_result"
        }
      ]
    },
    {
      "cell_type": "code",
      "metadata": {
        "colab": {
          "base_uri": "https://localhost:8080/"
        },
        "id": "PGkCmkRi2JVY",
        "outputId": "3195a470-5b8b-4b4c-a88a-c9f7b8b21eb7"
      },
      "source": [
        "test_texts.head()"
      ],
      "execution_count": null,
      "outputs": [
        {
          "data": {
            "text/plain": [
              "469600                                the end of the tunnel\n",
              "639137    #gamergaters applaud hiring of fake gamer as b...\n",
              "240293                                          ryze main ?\n",
              "702254    pfft , like that has ever happened ever anywhe...\n",
              "889040                            seriously ? castlevania 4\n",
              "Name: parent_comment, dtype: object"
            ]
          },
          "execution_count": 24,
          "metadata": {
            "tags": []
          },
          "output_type": "execute_result"
        }
      ]
    },
    {
      "cell_type": "code",
      "metadata": {
        "colab": {
          "base_uri": "https://localhost:8080/"
        },
        "id": "DYOXwMll1VE9",
        "outputId": "8a701499-a8c7-4d73-eb69-fee7a14db097"
      },
      "source": [
        "y_train.head()"
      ],
      "execution_count": null,
      "outputs": [
        {
          "data": {
            "text/plain": [
              "777207    1\n",
              "887660    1\n",
              "368348    0\n",
              "212850    1\n",
              "928818    0\n",
              "Name: label, dtype: int64"
            ]
          },
          "execution_count": 25,
          "metadata": {
            "tags": []
          },
          "output_type": "execute_result"
        }
      ]
    },
    {
      "cell_type": "code",
      "metadata": {
        "colab": {
          "base_uri": "https://localhost:8080/"
        },
        "id": "UWrKkzI71up_",
        "outputId": "b2008f26-1ef3-4e22-da5f-f0cc4ab1f55d"
      },
      "source": [
        "y_valid.head()"
      ],
      "execution_count": null,
      "outputs": [
        {
          "data": {
            "text/plain": [
              "672232    0\n",
              "87402     0\n",
              "97681     0\n",
              "735904    1\n",
              "393598    0\n",
              "Name: label, dtype: int64"
            ]
          },
          "execution_count": 26,
          "metadata": {
            "tags": []
          },
          "output_type": "execute_result"
        }
      ]
    },
    {
      "cell_type": "code",
      "metadata": {
        "colab": {
          "base_uri": "https://localhost:8080/"
        },
        "id": "BLty0Xu_2V0y",
        "outputId": "8cbbf73f-d886-422e-cc56-a36b45515ac9"
      },
      "source": [
        "y_test.head()"
      ],
      "execution_count": null,
      "outputs": [
        {
          "data": {
            "text/plain": [
              "469600    0\n",
              "639137    0\n",
              "240293    0\n",
              "702254    1\n",
              "889040    1\n",
              "Name: label, dtype: int64"
            ]
          },
          "execution_count": 27,
          "metadata": {
            "tags": []
          },
          "output_type": "execute_result"
        }
      ]
    },
    {
      "cell_type": "code",
      "metadata": {
        "colab": {
          "base_uri": "https://localhost:8080/",
          "height": 265
        },
        "id": "RktVpuSa1kYA",
        "outputId": "48a99fd8-04e7-475e-966d-645cf8efe441"
      },
      "source": [
        "train_df.loc[train_df['label'] == 1, 'parent_comment'].str.len().apply(np.log1p).hist(label='sarcastic', alpha=.5)\n",
        "train_df.loc[train_df['label'] == 0, 'parent_comment'].str.len().apply(np.log1p).hist(label='normal', alpha=.5)\n",
        "plt.legend();"
      ],
      "execution_count": null,
      "outputs": [
        {
          "data": {
            "image/png": "[encoded data removed]",
            "text/plain": [
              "<Figure size 432x288 with 1 Axes>"
            ]
          },
          "metadata": {
            "tags": []
          },
          "output_type": "display_data"
        }
      ]
    },
    {
      "cell_type": "code",
      "metadata": {
        "colab": {
          "base_uri": "https://localhost:8080/",
          "height": 305
        },
        "id": "UnL4veHY85aG",
        "outputId": "45bde998-f348-4120-b43d-252e18d56cc3"
      },
      "source": [
        "sns.boxplot(x= train_df['comment'].str.len()).set(title = 'Length of Comments', xlabel = 'Length')\n",
        "sns.despine(offset=10, trim=True)\n",
        "plt.show()"
      ],
      "execution_count": null,
      "outputs": [
        {
          "output_type": "display_data",
          "data": {
            "image/png": "[encoded data removed]",
            "text/plain": [
              "<Figure size 432x288 with 1 Axes>"
            ]
          },
          "metadata": {
            "needs_background": "light"
          }
        }
      ]
    },
    {
      "cell_type": "code",
      "metadata": {
        "colab": {
          "base_uri": "https://localhost:8080/",
          "height": 305
        },
        "id": "qodKjsAc99XD",
        "outputId": "0dc13724-86cd-4863-d73c-a92f949d46f6"
      },
      "source": [
        "sns.boxplot(x= train_df['parent_comment'].str.len()).set(title = 'Length of Comments', xlabel = 'Length')\n",
        "sns.despine(offset=10, trim=True)\n",
        "plt.show()"
      ],
      "execution_count": null,
      "outputs": [
        {
          "output_type": "display_data",
          "data": {
            "image/png": "[encoded data removed]",
            "text/plain": [
              "<Figure size 432x288 with 1 Axes>"
            ]
          },
          "metadata": {
            "needs_background": "light"
          }
        }
      ]
    },
    {
      "cell_type": "markdown",
      "metadata": {
        "id": "CceA-MaS75hT"
      },
      "source": [
        "# Logistic Regression"
      ]
    },
    {
      "cell_type": "code",
      "metadata": {
        "id": "DJSU4kgr6icW"
      },
      "source": [
        "tf_idf = TfidfVectorizer(ngram_range=(1, 2), max_features=5000, min_df=2)\n",
        "logit = LogisticRegressionCV(n_jobs=4, solver='lbfgs', cv = 10, \n",
        "                           random_state=17, verbose=1)\n",
        "tfidf_logit_pipeline = Pipeline([('tf_idf', tf_idf), \n",
        "                                 ('logit', logit)])"
      ],
      "execution_count": null,
      "outputs": []
    },
    {
      "cell_type": "code",
      "metadata": {
        "colab": {
          "base_uri": "https://localhost:8080/"
        },
        "id": "ylX8WqSp6if4",
        "outputId": "eb2d807f-b643-41cc-f322-ada5362b1634"
      },
      "source": [
        "%%time\n",
        "tfidf_logit_pipeline.fit(train_texts, y_train)"
      ],
      "execution_count": null,
      "outputs": [
        {
          "name": "stderr",
          "output_type": "stream",
          "text": [
            "[Parallel(n_jobs=4)]: Using backend LokyBackend with 4 concurrent workers.\n",
            "[Parallel(n_jobs=4)]: Done  10 out of  10 | elapsed:  5.3min finished\n"
          ]
        },
        {
          "name": "stdout",
          "output_type": "stream",
          "text": [
            "CPU times: user 55.9 s, sys: 1.8 s, total: 57.7 s\n",
            "Wall time: 6min 12s\n"
          ]
        },
        {
          "data": {
            "text/plain": [
              "Pipeline(memory=None,\n",
              "         steps=[('tf_idf',\n",
              "                 TfidfVectorizer(analyzer='word', binary=False,\n",
              "                                 decode_error='strict',\n",
              "                                 dtype=<class 'numpy.float64'>,\n",
              "                                 encoding='utf-8', input='content',\n",
              "                                 lowercase=True, max_df=1.0, max_features=5000,\n",
              "                                 min_df=2, ngram_range=(1, 2), norm='l2',\n",
              "                                 preprocessor=None, smooth_idf=True,\n",
              "                                 stop_words=None, strip_accents=None,\n",
              "                                 sublinear_tf=False,\n",
              "                                 token_pattern='(?u)\\\\b\\\\w\\\\w+\\\\b',\n",
              "                                 tokenizer=None, use_idf=True,\n",
              "                                 vocabulary=None)),\n",
              "                ('logit',\n",
              "                 LogisticRegressionCV(Cs=10, class_weight=None, cv=10,\n",
              "                                      dual=False, fit_intercept=True,\n",
              "                                      intercept_scaling=1.0, l1_ratios=None,\n",
              "                                      max_iter=100, multi_class='auto',\n",
              "                                      n_jobs=4, penalty='l2', random_state=17,\n",
              "                                      refit=True, scoring=None, solver='lbfgs',\n",
              "                                      tol=0.0001, verbose=1))],\n",
              "         verbose=False)"
            ]
          },
          "execution_count": 23,
          "metadata": {},
          "output_type": "execute_result"
        }
      ]
    },
    {
      "cell_type": "code",
      "metadata": {
        "colab": {
          "base_uri": "https://localhost:8080/"
        },
        "id": "1CSonPDV6ijU",
        "outputId": "036c84d8-5877-407d-9101-a69f814f37c4"
      },
      "source": [
        "%%time\n",
        "valid_pred = tfidf_logit_pipeline.predict(valid_texts)"
      ],
      "execution_count": null,
      "outputs": [
        {
          "name": "stdout",
          "output_type": "stream",
          "text": [
            "CPU times: user 11.4 s, sys: 154 ms, total: 11.5 s\n",
            "Wall time: 11.5 s\n"
          ]
        }
      ]
    },
    {
      "cell_type": "code",
      "metadata": {
        "colab": {
          "base_uri": "https://localhost:8080/"
        },
        "id": "WHxd5TYP6imb",
        "outputId": "3573eedc-3b1c-4707-bb01-905a51271970"
      },
      "source": [
        "accuracy_score(y_valid, valid_pred)"
      ],
      "execution_count": null,
      "outputs": [
        {
          "data": {
            "text/plain": [
              "0.5812165582515066"
            ]
          },
          "execution_count": 25,
          "metadata": {},
          "output_type": "execute_result"
        }
      ]
    },
    {
      "cell_type": "code",
      "metadata": {
        "colab": {
          "base_uri": "https://localhost:8080/"
        },
        "id": "wTs0WgjwxsVM",
        "outputId": "6a1e71c8-6ac6-4ff5-e578-4df0d1487d4e"
      },
      "source": [
        "from sklearn.metrics import classification_report\n",
        "print(classification_report(y_valid, valid_pred))"
      ],
      "execution_count": null,
      "outputs": [
        {
          "name": "stdout",
          "output_type": "stream",
          "text": [
            "              precision    recall  f1-score   support\n",
            "\n",
            "           0       0.58      0.61      0.59    121618\n",
            "           1       0.58      0.56      0.57    120968\n",
            "\n",
            "    accuracy                           0.58    242586\n",
            "   macro avg       0.58      0.58      0.58    242586\n",
            "weighted avg       0.58      0.58      0.58    242586\n",
            "\n"
          ]
        }
      ]
    },
    {
      "cell_type": "code",
      "metadata": {
        "id": "1TZUOMpSFYvd"
      },
      "source": [
        ""
      ],
      "execution_count": null,
      "outputs": []
    },
    {
      "cell_type": "code",
      "metadata": {
        "colab": {
          "base_uri": "https://localhost:8080/"
        },
        "id": "e8yB6BrtS2NA",
        "outputId": "87fcffae-56f2-497b-a6a5-8c6070b00649"
      },
      "source": [
        "prob_pred = tfidf_logit_pipeline.predict_proba(test_texts[:10])\n",
        "print(prob_pred)\n",
        "print(y_test[:10])"
      ],
      "execution_count": null,
      "outputs": [
        {
          "name": "stdout",
          "output_type": "stream",
          "text": [
            "[[0.5531078  0.4468922 ]\n",
            " [0.47618354 0.52381646]\n",
            " [0.58630434 0.41369566]\n",
            " [0.49201794 0.50798206]\n",
            " [0.35039683 0.64960317]\n",
            " [0.59389022 0.40610978]\n",
            " [0.52124588 0.47875412]\n",
            " [0.51103635 0.48896365]\n",
            " [0.51438967 0.48561033]\n",
            " [0.70416118 0.29583882]]\n",
            "469600    0\n",
            "639137    0\n",
            "240293    0\n",
            "702254    1\n",
            "889040    1\n",
            "118721    0\n",
            "947749    1\n",
            "112289    1\n",
            "564578    0\n",
            "1020      0\n",
            "Name: label, dtype: int64\n"
          ]
        }
      ]
    },
    {
      "cell_type": "code",
      "metadata": {
        "id": "ntkD31ov6ipc"
      },
      "source": [
        "def plot_confusion_matrix(actual, predicted, classes,\n",
        "                          normalize=False,\n",
        "                          title='Confusion matrix', figsize=(7,7),\n",
        "                          cmap=plt.cm.Reds, path_to_save_fig=None):\n",
        "    \n",
        "    import itertools\n",
        "    from sklearn.metrics import confusion_matrix\n",
        "    cm = confusion_matrix(actual, predicted).T\n",
        "    if normalize:\n",
        "        cm = cm.astype('float') / cm.sum(axis=1)[:, np.newaxis]\n",
        "    \n",
        "    plt.figure(figsize=figsize)\n",
        "    plt.imshow(cm, interpolation='nearest', cmap=cmap)\n",
        "    plt.title(title)\n",
        "    plt.colorbar()\n",
        "    tick_marks = np.arange(len(classes))\n",
        "    plt.xticks(tick_marks, classes, rotation=90)\n",
        "    plt.yticks(tick_marks, classes)\n",
        "\n",
        "\n",
        "    fmt = '.2f' if normalize else 'd'\n",
        "    thresh = cm.max() / 2.\n",
        "    for i, j in itertools.product(range(cm.shape[0]), range(cm.shape[1])):\n",
        "        plt.text(j, i, format(cm[i, j], fmt),\n",
        "                 horizontalalignment=\"center\",\n",
        "                 color=\"Black\" if cm[i, j] > thresh else \"white\")\n",
        "\n",
        "    plt.tight_layout()\n",
        "    plt.ylabel('Predicted label')\n",
        "    plt.xlabel('True label')\n",
        "    \n",
        "    if path_to_save_fig:\n",
        "        plt.savefig(path_to_save_fig, dpi=300, bbox_inches='tight')"
      ],
      "execution_count": null,
      "outputs": []
    },
    {
      "cell_type": "code",
      "metadata": {
        "colab": {
          "base_uri": "https://localhost:8080/",
          "height": 585
        },
        "id": "i9FoppiD7p4B",
        "outputId": "bc65b713-f9f9-4765-95ac-9d030e683c0d"
      },
      "source": [
        "plot_confusion_matrix(y_valid, valid_pred, \n",
        "                      tfidf_logit_pipeline.named_steps['logit'].classes_, figsize=(8, 8))\n"
      ],
      "execution_count": null,
      "outputs": [
        {
          "data": {
            "image/png": "[encoded data removed]",
            "text/plain": [
              "<Figure size 576x576 with 2 Axes>"
            ]
          },
          "metadata": {},
          "output_type": "display_data"
        }
      ]
    },
    {
      "cell_type": "code",
      "metadata": {
        "colab": {
          "background_save": true
        },
        "id": "M_me4Td38Wfn"
      },
      "source": [
        "!pip install eli5"
      ],
      "execution_count": null,
      "outputs": []
    },
    {
      "cell_type": "code",
      "metadata": {
        "colab": {
          "background_save": true
        },
        "id": "mEiGS21b7p72",
        "outputId": "4d609ae4-fd5c-4e95-d106-fd03322bf6d1"
      },
      "source": [
        "import eli5\n",
        "eli5.show_weights(estimator=tfidf_logit_pipeline.named_steps['logit'],\n",
        "                  vec=tfidf_logit_pipeline.named_steps['tf_idf'])"
      ],
      "execution_count": null,
      "outputs": [
        {
          "name": "stderr",
          "output_type": "stream",
          "text": [
            "/usr/local/lib/python3.7/dist-packages/sklearn/utils/deprecation.py:144: FutureWarning: The sklearn.feature_selection.base module is  deprecated in version 0.22 and will be removed in version 0.24. The corresponding classes / functions should instead be imported from sklearn.feature_selection. Anything that cannot be imported from sklearn.feature_selection is now part of the private API.\n",
            "  warnings.warn(message, FutureWarning)\n"
          ]
        },
        {
          "data": {
            "text/html": [
              "\n",
              "    <style>\n",
              "    table.eli5-weights tr:hover {\n",
              "        filter: brightness(85%);\n",
              "    }\n",
              "</style>\n",
              "\n",
              "\n",
              "\n",
              "    \n",
              "\n",
              "    \n",
              "\n",
              "    \n",
              "\n",
              "    \n",
              "\n",
              "    \n",
              "\n",
              "    \n",
              "\n",
              "\n",
              "    \n",
              "\n",
              "    \n",
              "\n",
              "    \n",
              "\n",
              "    \n",
              "        \n",
              "\n",
              "    \n",
              "\n",
              "        \n",
              "            \n",
              "                \n",
              "                \n",
              "    \n",
              "        <p style=\"margin-bottom: 0.5em; margin-top: 0em\">\n",
              "            <b>\n",
              "    \n",
              "        y=1\n",
              "    \n",
              "</b>\n",
              "\n",
              "top features\n",
              "        </p>\n",
              "    \n",
              "    <table class=\"eli5-weights\"\n",
              "           style=\"border-collapse: collapse; border: none; margin-top: 0em; table-layout: auto; margin-bottom: 2em;\">\n",
              "        <thead>\n",
              "        <tr style=\"border: none;\">\n",
              "            \n",
              "                <th style=\"padding: 0 1em 0 0.5em; text-align: right; border: none;\" title=\"Feature weights. Note that weights do not account for feature value scales, so if feature values have different scales, features with highest weights might not be the most important.\">\n",
              "                    Weight<sup>?</sup>\n",
              "                </th>\n",
              "            \n",
              "            <th style=\"padding: 0 0.5em 0 0.5em; text-align: left; border: none;\">Feature</th>\n",
              "            \n",
              "        </tr>\n",
              "        </thead>\n",
              "        <tbody>\n",
              "        \n",
              "            <tr style=\"background-color: hsl(120, 100.00%, 80.00%); border: none;\">\n",
              "    <td style=\"padding: 0 1em 0 0.5em; text-align: right; border: none;\">\n",
              "        +2.269\n",
              "    </td>\n",
              "    <td style=\"padding: 0 0.5em 0 0.5em; text-align: left; border: none;\">\n",
              "        sarcasm\n",
              "    </td>\n",
              "    \n",
              "</tr>\n",
              "        \n",
              "            <tr style=\"background-color: hsl(120, 100.00%, 84.81%); border: none;\">\n",
              "    <td style=\"padding: 0 1em 0 0.5em; text-align: right; border: none;\">\n",
              "        +1.531\n",
              "    </td>\n",
              "    <td style=\"padding: 0 0.5em 0 0.5em; text-align: left; border: none;\">\n",
              "        people\n",
              "    </td>\n",
              "    \n",
              "</tr>\n",
              "        \n",
              "            <tr style=\"background-color: hsl(120, 100.00%, 85.46%); border: none;\">\n",
              "    <td style=\"padding: 0 1em 0 0.5em; text-align: right; border: none;\">\n",
              "        +1.439\n",
              "    </td>\n",
              "    <td style=\"padding: 0 0.5em 0 0.5em; text-align: left; border: none;\">\n",
              "        women\n",
              "    </td>\n",
              "    \n",
              "</tr>\n",
              "        \n",
              "            <tr style=\"background-color: hsl(120, 100.00%, 86.51%); border: none;\">\n",
              "    <td style=\"padding: 0 1em 0 0.5em; text-align: right; border: none;\">\n",
              "        +1.293\n",
              "    </td>\n",
              "    <td style=\"padding: 0 0.5em 0 0.5em; text-align: left; border: none;\">\n",
              "        racist\n",
              "    </td>\n",
              "    \n",
              "</tr>\n",
              "        \n",
              "            <tr style=\"background-color: hsl(120, 100.00%, 86.83%); border: none;\">\n",
              "    <td style=\"padding: 0 1em 0 0.5em; text-align: right; border: none;\">\n",
              "        +1.249\n",
              "    </td>\n",
              "    <td style=\"padding: 0 0.5em 0 0.5em; text-align: left; border: none;\">\n",
              "        sarcastic\n",
              "    </td>\n",
              "    \n",
              "</tr>\n",
              "        \n",
              "            <tr style=\"background-color: hsl(120, 100.00%, 87.32%); border: none;\">\n",
              "    <td style=\"padding: 0 1em 0 0.5em; text-align: right; border: none;\">\n",
              "        +1.183\n",
              "    </td>\n",
              "    <td style=\"padding: 0 0.5em 0 0.5em; text-align: left; border: none;\">\n",
              "        woman\n",
              "    </td>\n",
              "    \n",
              "</tr>\n",
              "        \n",
              "            <tr style=\"background-color: hsl(120, 100.00%, 87.60%); border: none;\">\n",
              "    <td style=\"padding: 0 1em 0 0.5em; text-align: right; border: none;\">\n",
              "        +1.146\n",
              "    </td>\n",
              "    <td style=\"padding: 0 0.5em 0 0.5em; text-align: left; border: none;\">\n",
              "        police\n",
              "    </td>\n",
              "    \n",
              "</tr>\n",
              "        \n",
              "            <tr style=\"background-color: hsl(120, 100.00%, 87.88%); border: none;\">\n",
              "    <td style=\"padding: 0 1em 0 0.5em; text-align: right; border: none;\">\n",
              "        +1.109\n",
              "    </td>\n",
              "    <td style=\"padding: 0 0.5em 0 0.5em; text-align: left; border: none;\">\n",
              "        rape\n",
              "    </td>\n",
              "    \n",
              "</tr>\n",
              "        \n",
              "            <tr style=\"background-color: hsl(120, 100.00%, 88.41%); border: none;\">\n",
              "    <td style=\"padding: 0 1em 0 0.5em; text-align: right; border: none;\">\n",
              "        +1.041\n",
              "    </td>\n",
              "    <td style=\"padding: 0 0.5em 0 0.5em; text-align: left; border: none;\">\n",
              "        racism\n",
              "    </td>\n",
              "    \n",
              "</tr>\n",
              "        \n",
              "            <tr style=\"background-color: hsl(120, 100.00%, 88.57%); border: none;\">\n",
              "    <td style=\"padding: 0 1em 0 0.5em; text-align: right; border: none;\">\n",
              "        +1.020\n",
              "    </td>\n",
              "    <td style=\"padding: 0 0.5em 0 0.5em; text-align: left; border: none;\">\n",
              "        fault\n",
              "    </td>\n",
              "    \n",
              "</tr>\n",
              "        \n",
              "            <tr style=\"background-color: hsl(120, 100.00%, 88.65%); border: none;\">\n",
              "    <td style=\"padding: 0 1em 0 0.5em; text-align: right; border: none;\">\n",
              "        +1.009\n",
              "    </td>\n",
              "    <td style=\"padding: 0 0.5em 0 0.5em; text-align: left; border: none;\">\n",
              "        clearly\n",
              "    </td>\n",
              "    \n",
              "</tr>\n",
              "        \n",
              "            <tr style=\"background-color: hsl(120, 100.00%, 88.81%); border: none;\">\n",
              "    <td style=\"padding: 0 1em 0 0.5em; text-align: right; border: none;\">\n",
              "        +0.989\n",
              "    </td>\n",
              "    <td style=\"padding: 0 0.5em 0 0.5em; text-align: left; border: none;\">\n",
              "        government\n",
              "    </td>\n",
              "    \n",
              "</tr>\n",
              "        \n",
              "            <tr style=\"background-color: hsl(120, 100.00%, 88.84%); border: none;\">\n",
              "    <td style=\"padding: 0 1em 0 0.5em; text-align: right; border: none;\">\n",
              "        +0.986\n",
              "    </td>\n",
              "    <td style=\"padding: 0 0.5em 0 0.5em; text-align: left; border: none;\">\n",
              "        white\n",
              "    </td>\n",
              "    \n",
              "</tr>\n",
              "        \n",
              "            <tr style=\"background-color: hsl(120, 100.00%, 89.18%); border: none;\">\n",
              "    <td style=\"padding: 0 1em 0 0.5em; text-align: right; border: none;\">\n",
              "        +0.943\n",
              "    </td>\n",
              "    <td style=\"padding: 0 0.5em 0 0.5em; text-align: left; border: none;\">\n",
              "        female\n",
              "    </td>\n",
              "    \n",
              "</tr>\n",
              "        \n",
              "            <tr style=\"background-color: hsl(120, 100.00%, 89.52%); border: none;\">\n",
              "    <td style=\"padding: 0 1em 0 0.5em; text-align: right; border: none;\">\n",
              "        +0.901\n",
              "    </td>\n",
              "    <td style=\"padding: 0 0.5em 0 0.5em; text-align: left; border: none;\">\n",
              "        children\n",
              "    </td>\n",
              "    \n",
              "</tr>\n",
              "        \n",
              "            <tr style=\"background-color: hsl(120, 100.00%, 89.69%); border: none;\">\n",
              "    <td style=\"padding: 0 1em 0 0.5em; text-align: right; border: none;\">\n",
              "        +0.881\n",
              "    </td>\n",
              "    <td style=\"padding: 0 0.5em 0 0.5em; text-align: left; border: none;\">\n",
              "        apparently\n",
              "    </td>\n",
              "    \n",
              "</tr>\n",
              "        \n",
              "            <tr style=\"background-color: hsl(120, 100.00%, 89.72%); border: none;\">\n",
              "    <td style=\"padding: 0 1em 0 0.5em; text-align: right; border: none;\">\n",
              "        +0.877\n",
              "    </td>\n",
              "    <td style=\"padding: 0 0.5em 0 0.5em; text-align: left; border: none;\">\n",
              "        muslim\n",
              "    </td>\n",
              "    \n",
              "</tr>\n",
              "        \n",
              "            <tr style=\"background-color: hsl(120, 100.00%, 89.79%); border: none;\">\n",
              "    <td style=\"padding: 0 1em 0 0.5em; text-align: right; border: none;\">\n",
              "        +0.868\n",
              "    </td>\n",
              "    <td style=\"padding: 0 0.5em 0 0.5em; text-align: left; border: none;\">\n",
              "        gay\n",
              "    </td>\n",
              "    \n",
              "</tr>\n",
              "        \n",
              "            <tr style=\"background-color: hsl(120, 100.00%, 89.82%); border: none;\">\n",
              "    <td style=\"padding: 0 1em 0 0.5em; text-align: right; border: none;\">\n",
              "        +0.864\n",
              "    </td>\n",
              "    <td style=\"padding: 0 0.5em 0 0.5em; text-align: left; border: none;\">\n",
              "        shooting\n",
              "    </td>\n",
              "    \n",
              "</tr>\n",
              "        \n",
              "        \n",
              "            <tr style=\"background-color: hsl(120, 100.00%, 89.82%); border: none;\">\n",
              "                <td colspan=\"2\" style=\"padding: 0 0.5em 0 0.5em; text-align: center; border: none; white-space: nowrap;\">\n",
              "                    <i>&hellip; 2725 more positive &hellip;</i>\n",
              "                </td>\n",
              "            </tr>\n",
              "        \n",
              "\n",
              "        \n",
              "            <tr style=\"background-color: hsl(0, 100.00%, 89.56%); border: none;\">\n",
              "                <td colspan=\"2\" style=\"padding: 0 0.5em 0 0.5em; text-align: center; border: none; white-space: nowrap;\">\n",
              "                    <i>&hellip; 2256 more negative &hellip;</i>\n",
              "                </td>\n",
              "            </tr>\n",
              "        \n",
              "        \n",
              "            <tr style=\"background-color: hsl(0, 100.00%, 89.56%); border: none;\">\n",
              "    <td style=\"padding: 0 1em 0 0.5em; text-align: right; border: none;\">\n",
              "        -0.896\n",
              "    </td>\n",
              "    <td style=\"padding: 0 0.5em 0 0.5em; text-align: left; border: none;\">\n",
              "        cat\n",
              "    </td>\n",
              "    \n",
              "</tr>\n",
              "        \n",
              "\n",
              "        </tbody>\n",
              "    </table>\n",
              "\n",
              "            \n",
              "        \n",
              "\n",
              "        \n",
              "\n",
              "\n",
              "\n",
              "    \n",
              "\n",
              "    \n",
              "\n",
              "    \n",
              "\n",
              "    \n",
              "\n",
              "\n",
              "    \n",
              "\n",
              "    \n",
              "\n",
              "    \n",
              "\n",
              "    \n",
              "\n",
              "    \n",
              "\n",
              "    \n",
              "\n",
              "\n",
              "    \n",
              "\n",
              "    \n",
              "\n",
              "    \n",
              "\n",
              "    \n",
              "\n",
              "    \n",
              "\n",
              "    \n",
              "\n",
              "\n",
              "\n"
            ],
            "text/plain": [
              "<IPython.core.display.HTML object>"
            ]
          },
          "execution_count": null,
          "metadata": {},
          "output_type": "execute_result"
        }
      ]
    },
    {
      "cell_type": "code",
      "metadata": {
        "id": "-_3Xuepeq1Eh"
      },
      "source": [
        ""
      ],
      "execution_count": null,
      "outputs": []
    },
    {
      "cell_type": "code",
      "metadata": {
        "id": "oZIwNvpvq1Iv"
      },
      "source": [
        ""
      ],
      "execution_count": null,
      "outputs": []
    },
    {
      "cell_type": "code",
      "metadata": {
        "id": "cdnc4qjkq1QL"
      },
      "source": [
        "subreddits = train_df['subreddit']\n",
        "train_subreddits, test_subreddits = train_test_split(subreddits,test_size=0.2, random_state=17)"
      ],
      "execution_count": null,
      "outputs": []
    },
    {
      "cell_type": "code",
      "metadata": {
        "id": "Npl2oz-7tKT_"
      },
      "source": [
        "train_subreddits, valid_subreddits = train_test_split(train_subreddits,test_size=0.3 ,random_state=17)"
      ],
      "execution_count": null,
      "outputs": []
    },
    {
      "cell_type": "code",
      "metadata": {
        "id": "d8scQ81wq1UI"
      },
      "source": [
        "tf_idf_texts = TfidfVectorizer(ngram_range=(1, 2), max_features=50000, min_df=2)\n",
        "tf_idf_subreddits = TfidfVectorizer(ngram_range=(1, 1))"
      ],
      "execution_count": null,
      "outputs": []
    },
    {
      "cell_type": "code",
      "metadata": {
        "colab": {
          "base_uri": "https://localhost:8080/"
        },
        "id": "U0y4o9uCrHAz",
        "outputId": "60659d82-1294-4c2b-ba2e-26b61b4ad79e"
      },
      "source": [
        "%%time\n",
        "X_train_texts = tf_idf_texts.fit_transform(train_texts)\n",
        "X_valid_texts = tf_idf_texts.transform(valid_texts)"
      ],
      "execution_count": null,
      "outputs": [
        {
          "name": "stdout",
          "output_type": "stream",
          "text": [
            "CPU times: user 1min 6s, sys: 1.28 s, total: 1min 8s\n",
            "Wall time: 1min 7s\n"
          ]
        }
      ]
    },
    {
      "cell_type": "code",
      "metadata": {
        "colab": {
          "base_uri": "https://localhost:8080/"
        },
        "id": "UePh7xbJrHFN",
        "outputId": "4aee5a89-a50c-4683-f65b-971a20edb810"
      },
      "source": [
        "X_train_texts.shape, X_valid_texts.shape"
      ],
      "execution_count": null,
      "outputs": [
        {
          "data": {
            "text/plain": [
              "((566032, 50000), (242586, 50000))"
            ]
          },
          "execution_count": 34,
          "metadata": {},
          "output_type": "execute_result"
        }
      ]
    },
    {
      "cell_type": "code",
      "metadata": {
        "colab": {
          "base_uri": "https://localhost:8080/"
        },
        "id": "NK8egaZxrHJw",
        "outputId": "62bccca8-6c37-4d95-85f6-54ecc6426254"
      },
      "source": [
        "%%time\n",
        "X_train_subreddits = tf_idf_subreddits.fit_transform(train_subreddits)\n",
        "X_valid_subreddits = tf_idf_subreddits.transform(valid_subreddits)"
      ],
      "execution_count": null,
      "outputs": [
        {
          "name": "stdout",
          "output_type": "stream",
          "text": [
            "CPU times: user 3.03 s, sys: 23.9 ms, total: 3.05 s\n",
            "Wall time: 3.05 s\n"
          ]
        }
      ]
    },
    {
      "cell_type": "code",
      "metadata": {
        "colab": {
          "base_uri": "https://localhost:8080/"
        },
        "id": "HCEuBn7_rSoR",
        "outputId": "30953361-f155-49f9-cf19-1f969037f919"
      },
      "source": [
        "X_train_subreddits.shape, X_valid_subreddits.shape"
      ],
      "execution_count": null,
      "outputs": [
        {
          "data": {
            "text/plain": [
              "((566032, 11781), (242586, 11781))"
            ]
          },
          "execution_count": 36,
          "metadata": {},
          "output_type": "execute_result"
        }
      ]
    },
    {
      "cell_type": "code",
      "metadata": {
        "id": "PHfw9Tj6rHN8"
      },
      "source": [
        "from scipy.sparse import hstack\n",
        "X_train = hstack([X_train_texts, X_train_subreddits])\n",
        "X_valid = hstack([X_valid_texts, X_valid_subreddits])"
      ],
      "execution_count": null,
      "outputs": []
    },
    {
      "cell_type": "code",
      "metadata": {
        "colab": {
          "base_uri": "https://localhost:8080/"
        },
        "id": "GktmeIBFrHR0",
        "outputId": "5daa93eb-0dcd-49fd-ce8e-0c548e1d1993"
      },
      "source": [
        "X_train.shape, X_valid.shape"
      ],
      "execution_count": null,
      "outputs": [
        {
          "data": {
            "text/plain": [
              "((566032, 61781), (242586, 61781))"
            ]
          },
          "execution_count": 38,
          "metadata": {},
          "output_type": "execute_result"
        }
      ]
    },
    {
      "cell_type": "code",
      "metadata": {
        "colab": {
          "background_save": true,
          "base_uri": "https://localhost:8080/"
        },
        "id": "bRLiivavrHWH",
        "outputId": "442745fe-27f7-4312-eb39-1bb1007e0c4f"
      },
      "source": [
        "logit.fit(X_train, y_train)"
      ],
      "execution_count": null,
      "outputs": [
        {
          "name": "stderr",
          "output_type": "stream",
          "text": [
            "[Parallel(n_jobs=4)]: Using backend LokyBackend with 4 concurrent workers.\n",
            "[Parallel(n_jobs=4)]: Done  10 out of  10 | elapsed: 15.6min finished\n"
          ]
        },
        {
          "data": {
            "text/plain": [
              "LogisticRegressionCV(Cs=10, class_weight=None, cv=10, dual=False,\n",
              "                     fit_intercept=True, intercept_scaling=1.0, l1_ratios=None,\n",
              "                     max_iter=100, multi_class='auto', n_jobs=4, penalty='l2',\n",
              "                     random_state=17, refit=True, scoring=None, solver='lbfgs',\n",
              "                     tol=0.0001, verbose=1)"
            ]
          },
          "execution_count": null,
          "metadata": {},
          "output_type": "execute_result"
        }
      ]
    },
    {
      "cell_type": "code",
      "metadata": {
        "colab": {
          "background_save": true
        },
        "id": "jKDjL3ePrHaE",
        "outputId": "988c40c2-5d2d-4c96-e5c2-0138253a834b"
      },
      "source": [
        "%%time\n",
        "valid_pred_sub = logit.predict(X_valid)"
      ],
      "execution_count": null,
      "outputs": [
        {
          "name": "stdout",
          "output_type": "stream",
          "text": [
            "CPU times: user 309 ms, sys: 105 ms, total: 414 ms\n",
            "Wall time: 338 ms\n"
          ]
        }
      ]
    },
    {
      "cell_type": "code",
      "metadata": {
        "colab": {
          "background_save": true
        },
        "id": "BjHxgFZfrHeu",
        "outputId": "43526a66-93df-448a-fbce-19deb7060d70"
      },
      "source": [
        "accuracy_score(y_valid, valid_pred_sub)"
      ],
      "execution_count": null,
      "outputs": [
        {
          "data": {
            "text/plain": [
              "0.5973180645214481"
            ]
          },
          "execution_count": null,
          "metadata": {},
          "output_type": "execute_result"
        }
      ]
    },
    {
      "cell_type": "code",
      "metadata": {
        "colab": {
          "background_save": true
        },
        "id": "Db6tUjTeElV8",
        "outputId": "281e8c07-73c7-44c3-9631-82581f383f6e"
      },
      "source": [
        "print(classification_report(y_valid, valid_pred_sub))"
      ],
      "execution_count": null,
      "outputs": [
        {
          "name": "stdout",
          "output_type": "stream",
          "text": [
            "              precision    recall  f1-score   support\n",
            "\n",
            "           0       0.60      0.60      0.60    121618\n",
            "           1       0.60      0.60      0.60    120968\n",
            "\n",
            "    accuracy                           0.60    242586\n",
            "   macro avg       0.60      0.60      0.60    242586\n",
            "weighted avg       0.60      0.60      0.60    242586\n",
            "\n"
          ]
        }
      ]
    },
    {
      "cell_type": "code",
      "metadata": {
        "id": "C2FlTo0ii31C"
      },
      "source": [
        ""
      ],
      "execution_count": null,
      "outputs": []
    },
    {
      "cell_type": "markdown",
      "metadata": {
        "id": "OK6D6e4gEyGp"
      },
      "source": [
        "# Neural Networks\n"
      ]
    },
    {
      "cell_type": "code",
      "metadata": {
        "id": "UxECRKHP17eg"
      },
      "source": [
        "!pip install tensorflow"
      ],
      "execution_count": null,
      "outputs": []
    },
    {
      "cell_type": "code",
      "metadata": {
        "id": "NWDjA8sgSWJn"
      },
      "source": [
        "import tensorflow as tf\n",
        "from tensorflow.keras.preprocessing.text import Tokenizer\n",
        "from tensorflow.keras.preprocessing.sequence import pad_sequences\n",
        "from tensorflow.keras.models import Sequential\n",
        "from keras import backend as K \n",
        "from keras.callbacks import EarlyStopping"
      ],
      "execution_count": null,
      "outputs": []
    },
    {
      "cell_type": "code",
      "metadata": {
        "id": "dU1OIzyUUMi-"
      },
      "source": [
        "vocab_size = 5000\n",
        "embedding_dim = 256\n",
        "max_length = 100\n",
        "trunc_type='post'\n",
        "oov_tok = \"<OOV>\"\n",
        "BATCH_SIZE = 512"
      ],
      "execution_count": null,
      "outputs": []
    },
    {
      "cell_type": "code",
      "metadata": {
        "id": "jQrLcByaSWM3"
      },
      "source": [
        "tokenizer = Tokenizer(num_words = vocab_size, oov_token=oov_tok)\n",
        "tokenizer.fit_on_texts(train_texts)\n",
        "word_index = tokenizer.word_index\n",
        "sequences = tokenizer.texts_to_sequences(train_texts)\n",
        "padded = pad_sequences(sequences,maxlen=max_length, truncating=trunc_type)\n",
        "\n",
        "valid_sequences = tokenizer.texts_to_sequences(valid_texts)\n",
        "valid_padded = pad_sequences(valid_sequences,maxlen=max_length, truncating=trunc_type)\n",
        "test_sequences = tokenizer.texts_to_sequences(test_texts)\n",
        "test_padded = pad_sequences(test_sequences,maxlen=max_length, truncating=trunc_type)"
      ],
      "execution_count": null,
      "outputs": []
    },
    {
      "cell_type": "code",
      "metadata": {
        "colab": {
          "base_uri": "https://localhost:8080/"
        },
        "id": "CedzIfLOy0z5",
        "outputId": "046befd8-f6ce-45c7-da7d-07776f6423e1"
      },
      "source": [
        "print(train_texts[22])\n",
        "print(sequences[22])"
      ],
      "execution_count": null,
      "outputs": [
        {
          "output_type": "stream",
          "name": "stdout",
          "text": [
            "i still doubt that \" all conservatives stand for is defeating liberals \" . if you use the election of trump as an example for the failure of modern conservatism , is it also fair to use the election of hillary clinton as a representative for modern liberalism ? i guess not. and the \" all conservatives stand for is defeating liberals \" could be applied vice versa if you only listen to people who are the loudest.\n",
            "[1, 688, 3, 1, 268, 2767]\n"
          ]
        }
      ]
    },
    {
      "cell_type": "code",
      "metadata": {
        "id": "p5ipFgOcFAd3"
      },
      "source": [
        "print(padded[22])"
      ],
      "execution_count": null,
      "outputs": []
    },
    {
      "cell_type": "markdown",
      "metadata": {
        "id": "WHotbfWTFGt0"
      },
      "source": [
        "## CNN\n"
      ]
    },
    {
      "cell_type": "code",
      "metadata": {
        "colab": {
          "base_uri": "https://localhost:8080/"
        },
        "id": "_6pvm0LFSWTR",
        "outputId": "ec7ff261-2834-4a7f-a31d-c9a5cccf3349"
      },
      "source": [
        "K.clear_session()\n",
        "model_conv = tf.keras.Sequential([\n",
        "    tf.keras.layers.Embedding(vocab_size, embedding_dim, input_length=max_length),\n",
        "    tf.keras.layers.Conv1D(32,5,activation='relu'),\n",
        "    tf.keras.layers.MaxPooling1D(2),\n",
        "    tf.keras.layers.Dropout(0.2),\n",
        "    tf.keras.layers.Conv1D(64,3,activation='relu'),\n",
        "    tf.keras.layers.MaxPooling1D(2),\n",
        "    tf.keras.layers.Dropout(0.5),\n",
        "    tf.keras.layers.Conv1D(128,3,activation='relu'),\n",
        "    tf.keras.layers.MaxPooling1D(2),\n",
        "    tf.keras.layers.Dropout(0.5),\n",
        "    tf.keras.layers.Flatten(),\n",
        "    tf.keras.layers.Dense(128, activation='relu'),\n",
        "    tf.keras.layers.Dropout(0.5),\n",
        "    tf.keras.layers.Dense(64, activation='relu'),\n",
        "    tf.keras.layers.Dense(32, activation='relu'),\n",
        "    tf.keras.layers.Dense(1, activation='sigmoid')\n",
        "])\n",
        "es = EarlyStopping(patience=4)\n",
        "model_conv.compile(loss='binary_crossentropy', optimizer = 'adam', metrics=['accuracy'])\n",
        "model_conv.summary()"
      ],
      "execution_count": null,
      "outputs": [
        {
          "name": "stdout",
          "output_type": "stream",
          "text": [
            "Model: \"sequential\"\n",
            "_________________________________________________________________\n",
            "Layer (type)                 Output Shape              Param #   \n",
            "=================================================================\n",
            "embedding (Embedding)        (None, 100, 256)          1280000   \n",
            "_________________________________________________________________\n",
            "conv1d (Conv1D)              (None, 96, 32)            40992     \n",
            "_________________________________________________________________\n",
            "max_pooling1d (MaxPooling1D) (None, 48, 32)            0         \n",
            "_________________________________________________________________\n",
            "dropout (Dropout)            (None, 48, 32)            0         \n",
            "_________________________________________________________________\n",
            "conv1d_1 (Conv1D)            (None, 46, 64)            6208      \n",
            "_________________________________________________________________\n",
            "max_pooling1d_1 (MaxPooling1 (None, 23, 64)            0         \n",
            "_________________________________________________________________\n",
            "dropout_1 (Dropout)          (None, 23, 64)            0         \n",
            "_________________________________________________________________\n",
            "conv1d_2 (Conv1D)            (None, 21, 128)           24704     \n",
            "_________________________________________________________________\n",
            "max_pooling1d_2 (MaxPooling1 (None, 10, 128)           0         \n",
            "_________________________________________________________________\n",
            "dropout_2 (Dropout)          (None, 10, 128)           0         \n",
            "_________________________________________________________________\n",
            "flatten (Flatten)            (None, 1280)              0         \n",
            "_________________________________________________________________\n",
            "dense (Dense)                (None, 128)               163968    \n",
            "_________________________________________________________________\n",
            "dropout_3 (Dropout)          (None, 128)               0         \n",
            "_________________________________________________________________\n",
            "dense_1 (Dense)              (None, 64)                8256      \n",
            "_________________________________________________________________\n",
            "dense_2 (Dense)              (None, 32)                2080      \n",
            "_________________________________________________________________\n",
            "dense_3 (Dense)              (None, 1)                 33        \n",
            "=================================================================\n",
            "Total params: 1,526,241\n",
            "Trainable params: 1,526,241\n",
            "Non-trainable params: 0\n",
            "_________________________________________________________________\n"
          ]
        }
      ]
    },
    {
      "cell_type": "code",
      "metadata": {
        "colab": {
          "base_uri": "https://localhost:8080/",
          "height": 1000
        },
        "id": "43m7c8IocUD2",
        "outputId": "a5bfcc22-fed7-45ad-9930-1ecaf9ec03d4"
      },
      "source": [
        "tf.keras.utils.plot_model(\n",
        "    model_conv, to_file='model_conv.png',\n",
        "    show_layer_names=True,\n",
        "    show_shapes= True\n",
        ")"
      ],
      "execution_count": null,
      "outputs": [
        {
          "data": {
            "image/png": "[encoded data removed]",
            "text/plain": [
              "<IPython.core.display.Image object>"
            ]
          },
          "execution_count": 39,
          "metadata": {},
          "output_type": "execute_result"
        }
      ]
    },
    {
      "cell_type": "code",
      "metadata": {
        "colab": {
          "base_uri": "https://localhost:8080/"
        },
        "id": "E6g_-g96SWVR",
        "outputId": "703d8529-98fc-4f55-ec8f-ffed61772fcc"
      },
      "source": [
        "num_epochs = 20\n",
        "history=model_conv.fit(padded,\n",
        "                       y_train,\n",
        "                       epochs=num_epochs,\n",
        "                       validation_data=(valid_padded, y_valid),\n",
        "                       batch_size=BATCH_SIZE,\n",
        "                       callbacks = [es])"
      ],
      "execution_count": null,
      "outputs": [
        {
          "name": "stdout",
          "output_type": "stream",
          "text": [
            "Epoch 1/20\n",
            "1106/1106 [==============================] - 711s 642ms/step - loss: 0.6842 - accuracy: 0.5532 - val_loss: 0.6796 - val_accuracy: 0.5684\n",
            "Epoch 2/20\n",
            "1106/1106 [==============================] - 709s 642ms/step - loss: 0.6758 - accuracy: 0.5774 - val_loss: 0.6802 - val_accuracy: 0.5689\n",
            "Epoch 3/20\n",
            "1106/1106 [==============================] - 709s 641ms/step - loss: 0.6708 - accuracy: 0.5878 - val_loss: 0.6785 - val_accuracy: 0.5704\n",
            "Epoch 4/20\n",
            "1106/1106 [==============================] - 704s 636ms/step - loss: 0.6644 - accuracy: 0.5991 - val_loss: 0.6798 - val_accuracy: 0.5688\n",
            "Epoch 5/20\n",
            "1106/1106 [==============================] - 703s 635ms/step - loss: 0.6561 - accuracy: 0.6107 - val_loss: 0.6819 - val_accuracy: 0.5656\n",
            "Epoch 6/20\n",
            "1106/1106 [==============================] - 703s 636ms/step - loss: 0.6456 - accuracy: 0.6239 - val_loss: 0.6871 - val_accuracy: 0.5603\n",
            "Epoch 7/20\n",
            "1106/1106 [==============================] - 703s 635ms/step - loss: 0.6335 - accuracy: 0.6371 - val_loss: 0.6935 - val_accuracy: 0.5606\n"
          ]
        }
      ]
    },
    {
      "cell_type": "code",
      "metadata": {
        "colab": {
          "base_uri": "https://localhost:8080/",
          "height": 279
        },
        "id": "Rrhdn0TT17gV",
        "outputId": "d0595e42-169d-4d18-9380-9f4126f1da28"
      },
      "source": [
        "plt.plot(history.history[\"loss\"],label = \"Train Loss\")\n",
        "plt.plot(history.history[\"val_loss\"],label = \"Validaton Loss\")\n",
        "plt.grid()\n",
        "plt.xlabel('Epochs')\n",
        "plt.ylabel('Loss')\n",
        "plt.legend()\n",
        "plt.savefig('cnn_loss.png')\n",
        "plt.show()"
      ],
      "execution_count": null,
      "outputs": [
        {
          "data": {
            "image/png": "[encoded data removed]",
            "text/plain": [
              "<Figure size 432x288 with 1 Axes>"
            ]
          },
          "metadata": {},
          "output_type": "display_data"
        }
      ]
    },
    {
      "cell_type": "code",
      "metadata": {
        "colab": {
          "base_uri": "https://localhost:8080/",
          "height": 280
        },
        "id": "kTgytUJNuFI5",
        "outputId": "124b0655-e842-4766-c1f4-eb15b08a4164"
      },
      "source": [
        "plt.figure()\n",
        "plt.plot(history.history[\"accuracy\"],label = \"Train Accuracy\")\n",
        "plt.plot(history.history[\"val_accuracy\"],label = \"Validaton Accuracy\")\n",
        "plt.grid()\n",
        "plt.xlabel('Epochs')\n",
        "plt.ylabel('Accuracy')\n",
        "plt.legend()\n",
        "plt.savefig('cnn_acc.png')\n",
        "plt.show()"
      ],
      "execution_count": null,
      "outputs": [
        {
          "data": {
            "image/png": "[encoded data removed]",
            "text/plain": [
              "<Figure size 432x288 with 1 Axes>"
            ]
          },
          "metadata": {},
          "output_type": "display_data"
        }
      ]
    },
    {
      "cell_type": "code",
      "metadata": {
        "colab": {
          "base_uri": "https://localhost:8080/"
        },
        "id": "DW7B5uBIfcpb",
        "outputId": "192341ba-5a89-4736-bab9-86e758ac4778"
      },
      "source": [
        "print(\"Evaluate on test data\")\n",
        "results = model_conv.evaluate(test_padded, y_test, batch_size=512)\n",
        "print(\"test loss, test acc:\", results)"
      ],
      "execution_count": null,
      "outputs": [
        {
          "name": "stdout",
          "output_type": "stream",
          "text": [
            "Evaluate on test data\n",
            "395/395 [==============================] - 46s 115ms/step - loss: 0.6915 - accuracy: 0.5622\n",
            "test loss, test acc: [0.6914902329444885, 0.5622369050979614]\n"
          ]
        }
      ]
    },
    {
      "cell_type": "markdown",
      "metadata": {
        "id": "4Y_rvbOdJDSy"
      },
      "source": [
        "## LSTM\n"
      ]
    },
    {
      "cell_type": "code",
      "metadata": {
        "colab": {
          "base_uri": "https://localhost:8080/"
        },
        "id": "3hqNrL2naHjI",
        "outputId": "05912535-3721-405b-c1cc-7bbc894d91d2"
      },
      "source": [
        "lstm_out = 64\n",
        "K.clear_session()\n",
        "\n",
        "model_lstm = tf.keras.Sequential([\n",
        "    tf.keras.layers.Embedding(vocab_size, embedding_dim,input_length = max_length),\n",
        "    tf.keras.layers.SpatialDropout1D(0.4),\n",
        "    tf.keras.layers.Bidirectional(tf.keras.layers.LSTM(lstm_out,return_sequences=True)),\n",
        "    tf.keras.layers.GlobalMaxPooling1D(),\n",
        "    tf.keras.layers.Dense(64, activation='relu'),\n",
        "    tf.keras.layers.Dropout(0.5),\n",
        "    tf.keras.layers.Dense(32, activation='relu'),\n",
        "    tf.keras.layers.Dense(1, activation='sigmoid')\n",
        "    \n",
        "])\n",
        "es = EarlyStopping(patience=4)\n",
        "model_lstm.compile(loss='binary_crossentropy',optimizer='adam',metrics=['accuracy'])\n",
        "model_lstm.summary()"
      ],
      "execution_count": null,
      "outputs": [
        {
          "name": "stdout",
          "output_type": "stream",
          "text": [
            "Model: \"sequential\"\n",
            "_________________________________________________________________\n",
            "Layer (type)                 Output Shape              Param #   \n",
            "=================================================================\n",
            "embedding (Embedding)        (None, 100, 256)          1280000   \n",
            "_________________________________________________________________\n",
            "spatial_dropout1d (SpatialDr (None, 100, 256)          0         \n",
            "_________________________________________________________________\n",
            "bidirectional (Bidirectional (None, 100, 128)          164352    \n",
            "_________________________________________________________________\n",
            "global_max_pooling1d (Global (None, 128)               0         \n",
            "_________________________________________________________________\n",
            "dense (Dense)                (None, 64)                8256      \n",
            "_________________________________________________________________\n",
            "dropout (Dropout)            (None, 64)                0         \n",
            "_________________________________________________________________\n",
            "dense_1 (Dense)              (None, 32)                2080      \n",
            "_________________________________________________________________\n",
            "dense_2 (Dense)              (None, 1)                 33        \n",
            "=================================================================\n",
            "Total params: 1,454,721\n",
            "Trainable params: 1,454,721\n",
            "Non-trainable params: 0\n",
            "_________________________________________________________________\n"
          ]
        }
      ]
    },
    {
      "cell_type": "code",
      "metadata": {
        "colab": {
          "base_uri": "https://localhost:8080/",
          "height": 976
        },
        "id": "3O9JVXuD0KzG",
        "outputId": "b55b8150-ebef-4e2d-d074-d7843f04fac5"
      },
      "source": [
        "tf.keras.utils.plot_model(\n",
        "    model_lstm, to_file='model_lstm.png',\n",
        "    show_layer_names=True,\n",
        "    show_shapes= True\n",
        ")"
      ],
      "execution_count": null,
      "outputs": [
        {
          "data": {
            "image/png": "[encoded data removed]",
            "text/plain": [
              "<IPython.core.display.Image object>"
            ]
          },
          "execution_count": 32,
          "metadata": {},
          "output_type": "execute_result"
        }
      ]
    },
    {
      "cell_type": "code",
      "metadata": {
        "colab": {
          "base_uri": "https://localhost:8080/"
        },
        "id": "BzozCMw9aHli",
        "outputId": "b5a3f236-ecbf-4024-b8b8-de03d4095327"
      },
      "source": [
        "num_epochs = 20\n",
        "history_lstm=model_lstm.fit(padded,\n",
        "                            y_train,\n",
        "                            epochs=num_epochs,\n",
        "                            batch_size=BATCH_SIZE,\n",
        "                            validation_data = (valid_padded, y_valid),\n",
        "                            callbacks = [es]\n",
        "                            )"
      ],
      "execution_count": null,
      "outputs": [
        {
          "name": "stdout",
          "output_type": "stream",
          "text": [
            "Epoch 1/20\n",
            "1106/1106 [==============================] - 1741s 2s/step - loss: 0.6773 - accuracy: 0.5700 - val_loss: 0.6717 - val_accuracy: 0.5847\n",
            "Epoch 2/20\n",
            "1106/1106 [==============================] - 1735s 2s/step - loss: 0.6675 - accuracy: 0.5915 - val_loss: 0.6714 - val_accuracy: 0.5862\n",
            "Epoch 3/20\n",
            "1106/1106 [==============================] - 1735s 2s/step - loss: 0.6621 - accuracy: 0.5998 - val_loss: 0.6724 - val_accuracy: 0.5842\n",
            "Epoch 4/20\n",
            "1106/1106 [==============================] - 1734s 2s/step - loss: 0.6568 - accuracy: 0.6077 - val_loss: 0.6730 - val_accuracy: 0.5829\n",
            "Epoch 5/20\n",
            "1106/1106 [==============================] - 1738s 2s/step - loss: 0.6519 - accuracy: 0.6136 - val_loss: 0.6727 - val_accuracy: 0.5822\n",
            "Epoch 6/20\n",
            "1106/1106 [==============================] - 1763s 2s/step - loss: 0.6459 - accuracy: 0.6209 - val_loss: 0.6751 - val_accuracy: 0.5800\n"
          ]
        }
      ]
    },
    {
      "cell_type": "code",
      "metadata": {
        "colab": {
          "base_uri": "https://localhost:8080/",
          "height": 279
        },
        "id": "6NBCTPZ6otsz",
        "outputId": "8235b624-923f-46c9-f224-a893594bbc45"
      },
      "source": [
        "plt.plot(history_lstm.history[\"loss\"],label = \"Train Loss\")\n",
        "plt.plot(history_lstm.history[\"val_loss\"],label = \"Validaton Loss\")\n",
        "plt.grid()\n",
        "plt.xlabel('Epochs')\n",
        "plt.ylabel('Loss')\n",
        "plt.legend()\n",
        "plt.savefig('lstm_loss.png')\n",
        "plt.show()\n"
      ],
      "execution_count": null,
      "outputs": [
        {
          "data": {
            "image/png": "[encoded data removed]",
            "text/plain": [
              "<Figure size 432x288 with 1 Axes>"
            ]
          },
          "metadata": {},
          "output_type": "display_data"
        }
      ]
    },
    {
      "cell_type": "code",
      "metadata": {
        "colab": {
          "base_uri": "https://localhost:8080/",
          "height": 279
        },
        "id": "JoJji4ijotwd",
        "outputId": "5e3625be-2e30-4ce5-fa8b-7b680613cb90"
      },
      "source": [
        "plt.figure()\n",
        "plt.plot(history_lstm.history[\"accuracy\"],label = \"Train Accuracy\")\n",
        "plt.plot(history_lstm.history[\"val_accuracy\"],label = \"Validaton Accuracy\")\n",
        "plt.grid()\n",
        "plt.xlabel('Epochs')\n",
        "plt.ylabel('Accuracy')\n",
        "plt.legend()\n",
        "plt.savefig('lstm_acc.png')\n",
        "plt.show()\n"
      ],
      "execution_count": null,
      "outputs": [
        {
          "data": {
            "image/png": "[encoded data removed]",
            "text/plain": [
              "<Figure size 432x288 with 1 Axes>"
            ]
          },
          "metadata": {},
          "output_type": "display_data"
        }
      ]
    },
    {
      "cell_type": "code",
      "metadata": {
        "colab": {
          "base_uri": "https://localhost:8080/"
        },
        "id": "JAC_Bn7saHoS",
        "outputId": "787a5619-f344-4df8-9347-ed438a3032f9"
      },
      "source": [
        "print(\"Evaluate on test data\")\n",
        "results = model_lstm.evaluate(test_padded, y_test, batch_size=512)\n",
        "print(\"test loss, test acc:\", results)\n"
      ],
      "execution_count": null,
      "outputs": [
        {
          "name": "stdout",
          "output_type": "stream",
          "text": [
            "Evaluate on test data\n",
            "395/395 [==============================] - 175s 442ms/step - loss: 0.6744 - accuracy: 0.5817\n",
            "test loss, test acc: [0.6743576526641846, 0.5817466974258423]\n"
          ]
        }
      ]
    },
    {
      "cell_type": "markdown",
      "metadata": {
        "id": "b8vHs-0KJOiz"
      },
      "source": [
        "## GRU\n"
      ]
    },
    {
      "cell_type": "code",
      "metadata": {
        "colab": {
          "base_uri": "https://localhost:8080/"
        },
        "id": "S6az_EM5k9Lz",
        "outputId": "f9a951c6-ebd2-4eaf-e265-51380e4ab7d3"
      },
      "source": [
        "K.clear_session()\n",
        "model_gru = tf.keras.Sequential([\n",
        "    tf.keras.layers.Embedding(vocab_size, embedding_dim, input_length=max_length),\n",
        "    tf.keras.layers.Bidirectional(tf.keras.layers.GRU(128, return_sequences=True)),\n",
        "    tf.keras.layers.GlobalMaxPooling1D(),\n",
        "    tf.keras.layers.Dense(32, activation='relu'),\n",
        "    tf.keras.layers.Dropout(0.5),\n",
        "    tf.keras.layers.Dense(16, activation='relu'),\n",
        "    tf.keras.layers.Dense(1, activation='sigmoid')\n",
        "])\n",
        "es = EarlyStopping(patience=4)\n",
        "model_gru.compile(loss='binary_crossentropy',optimizer='adam',metrics=['accuracy'])\n",
        "model_gru.summary()"
      ],
      "execution_count": null,
      "outputs": [
        {
          "name": "stdout",
          "output_type": "stream",
          "text": [
            "Model: \"sequential\"\n",
            "_________________________________________________________________\n",
            "Layer (type)                 Output Shape              Param #   \n",
            "=================================================================\n",
            "embedding (Embedding)        (None, 100, 256)          1280000   \n",
            "_________________________________________________________________\n",
            "bidirectional (Bidirectional (None, 100, 256)          296448    \n",
            "_________________________________________________________________\n",
            "global_max_pooling1d (Global (None, 256)               0         \n",
            "_________________________________________________________________\n",
            "dense (Dense)                (None, 32)                8224      \n",
            "_________________________________________________________________\n",
            "dropout (Dropout)            (None, 32)                0         \n",
            "_________________________________________________________________\n",
            "dense_1 (Dense)              (None, 16)                528       \n",
            "_________________________________________________________________\n",
            "dense_2 (Dense)              (None, 1)                 17        \n",
            "=================================================================\n",
            "Total params: 1,585,217\n",
            "Trainable params: 1,585,217\n",
            "Non-trainable params: 0\n",
            "_________________________________________________________________\n"
          ]
        }
      ]
    },
    {
      "cell_type": "code",
      "metadata": {
        "colab": {
          "base_uri": "https://localhost:8080/",
          "height": 865
        },
        "id": "47NT_aFwH11T",
        "outputId": "5d824147-584f-4884-df76-51973b5ddca2"
      },
      "source": [
        "tf.keras.utils.plot_model(\n",
        "    model_gru, to_file='model_gru.png',\n",
        "    show_layer_names=True,\n",
        "    show_shapes= True\n",
        ")"
      ],
      "execution_count": null,
      "outputs": [
        {
          "data": {
            "image/png": "[encoded data removed]",
            "text/plain": [
              "<IPython.core.display.Image object>"
            ]
          },
          "execution_count": 27,
          "metadata": {},
          "output_type": "execute_result"
        }
      ]
    },
    {
      "cell_type": "code",
      "metadata": {
        "colab": {
          "base_uri": "https://localhost:8080/"
        },
        "id": "bA3keKYHmlBA",
        "outputId": "b9fbafc3-b0e5-4625-daab-7b3f0957d5db"
      },
      "source": [
        "num_epochs = 20\n",
        "history_gru=model_gru.fit(padded,\n",
        "                          y_train,\n",
        "                          epochs=num_epochs,\n",
        "                          batch_size=BATCH_SIZE ,\n",
        "                          validation_data=(valid_padded, y_valid),\n",
        "                          callbacks = [es])"
      ],
      "execution_count": null,
      "outputs": [
        {
          "name": "stdout",
          "output_type": "stream",
          "text": [
            "Epoch 1/20\n",
            "1106/1106 [==============================] - 2725s 2s/step - loss: 0.6777 - accuracy: 0.5721 - val_loss: 0.6759 - val_accuracy: 0.5847\n",
            "Epoch 2/20\n",
            "1106/1106 [==============================] - 2702s 2s/step - loss: 0.6676 - accuracy: 0.5921 - val_loss: 0.6737 - val_accuracy: 0.5857\n",
            "Epoch 3/20\n",
            "1106/1106 [==============================] - 2689s 2s/step - loss: 0.6612 - accuracy: 0.6019 - val_loss: 0.6739 - val_accuracy: 0.5849\n",
            "Epoch 4/20\n",
            "1106/1106 [==============================] - 2690s 2s/step - loss: 0.6538 - accuracy: 0.6123 - val_loss: 0.6746 - val_accuracy: 0.5799\n",
            "Epoch 5/20\n",
            "1106/1106 [==============================] - 2694s 2s/step - loss: 0.6441 - accuracy: 0.6245 - val_loss: 0.6732 - val_accuracy: 0.5802\n",
            "Epoch 6/20\n",
            "1106/1106 [==============================] - 2692s 2s/step - loss: 0.6309 - accuracy: 0.6392 - val_loss: 0.6774 - val_accuracy: 0.5706\n",
            "Epoch 7/20\n",
            "1106/1106 [==============================] - 2690s 2s/step - loss: 0.6129 - accuracy: 0.6576 - val_loss: 0.6806 - val_accuracy: 0.5689\n",
            "Epoch 8/20\n",
            "1106/1106 [==============================] - 2699s 2s/step - loss: 0.5898 - accuracy: 0.6775 - val_loss: 0.6870 - val_accuracy: 0.5674\n",
            "Epoch 9/20\n",
            "1106/1106 [==============================] - 2699s 2s/step - loss: 0.5617 - accuracy: 0.6998 - val_loss: 0.7032 - val_accuracy: 0.5614\n"
          ]
        }
      ]
    },
    {
      "cell_type": "code",
      "metadata": {
        "colab": {
          "base_uri": "https://localhost:8080/",
          "height": 279
        },
        "id": "K-WG5EtOmEVR",
        "outputId": "166d6ffb-7071-4b51-e3e4-1d803e7d8e99"
      },
      "source": [
        "plt.plot(history_gru.history[\"loss\"],label = \"Train Loss\")\n",
        "plt.plot(history_gru.history[\"val_loss\"],label = \"Validaton Loss\")\n",
        "plt.grid()\n",
        "plt.xlabel('Epochs')\n",
        "plt.ylabel('Loss')\n",
        "plt.legend()\n",
        "plt.savefig('gru_loss.png')\n",
        "plt.show()"
      ],
      "execution_count": null,
      "outputs": [
        {
          "data": {
            "image/png": "[encoded data removed]",
            "text/plain": [
              "<Figure size 432x288 with 1 Axes>"
            ]
          },
          "metadata": {},
          "output_type": "display_data"
        }
      ]
    },
    {
      "cell_type": "code",
      "metadata": {
        "colab": {
          "base_uri": "https://localhost:8080/",
          "height": 279
        },
        "id": "vBARFwEkk-Oz",
        "outputId": "6dbbfce0-203c-4977-81fb-e60d3c693e17"
      },
      "source": [
        "plt.figure()\n",
        "plt.plot(history_gru.history[\"accuracy\"],label = \"Train Accuracy\")\n",
        "plt.plot(history_gru.history[\"val_accuracy\"],label = \"Validaton Accuracy\")\n",
        "plt.grid()\n",
        "plt.xlabel('Epochs')\n",
        "plt.ylabel('Accuracy')\n",
        "plt.legend()\n",
        "plt.savefig('gru_acc.png')\n",
        "plt.show()\n"
      ],
      "execution_count": null,
      "outputs": [
        {
          "data": {
            "image/png": "[encoded data removed]",
            "text/plain": [
              "<Figure size 432x288 with 1 Axes>"
            ]
          },
          "metadata": {},
          "output_type": "display_data"
        }
      ]
    },
    {
      "cell_type": "code",
      "metadata": {
        "colab": {
          "base_uri": "https://localhost:8080/"
        },
        "id": "avrQzUgZa7m2",
        "outputId": "10e61e8b-9c4e-4107-c6f0-49166ce2fa55"
      },
      "source": [
        "print(\"Evaluate GRU Model test data\")\n",
        "results = model_gru.evaluate(test_padded, y_test, batch_size=512)\n",
        "print(\"test loss, test acc:\", results)"
      ],
      "execution_count": null,
      "outputs": [
        {
          "name": "stdout",
          "output_type": "stream",
          "text": [
            "Evaluate GRU Model test data\n",
            "395/395 [==============================] - 273s 690ms/step - loss: 0.7026 - accuracy: 0.5625\n",
            "test loss, test acc: [0.7025852203369141, 0.5625039935112]\n"
          ]
        }
      ]
    }
  ]
}